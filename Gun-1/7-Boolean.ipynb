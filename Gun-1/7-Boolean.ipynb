{
 "cells": [
  {
   "cell_type": "code",
   "execution_count": 1,
   "id": "8dae603c",
   "metadata": {},
   "outputs": [],
   "source": [
    "# true veya false olarak iki deger alabiliyor"
   ]
  },
  {
   "cell_type": "code",
   "execution_count": 2,
   "id": "77d6c57f",
   "metadata": {},
   "outputs": [],
   "source": [
    "myBoolean = True"
   ]
  },
  {
   "cell_type": "code",
   "execution_count": 3,
   "id": "28723c0a",
   "metadata": {},
   "outputs": [
    {
     "data": {
      "text/plain": [
       "bool"
      ]
     },
     "execution_count": 3,
     "metadata": {},
     "output_type": "execute_result"
    }
   ],
   "source": [
    "type(myBoolean)"
   ]
  },
  {
   "cell_type": "code",
   "execution_count": 4,
   "id": "587f0190",
   "metadata": {},
   "outputs": [
    {
     "data": {
      "text/plain": [
       "True"
      ]
     },
     "execution_count": 4,
     "metadata": {},
     "output_type": "execute_result"
    }
   ],
   "source": [
    "myBoolean"
   ]
  },
  {
   "cell_type": "code",
   "execution_count": 5,
   "id": "e89ac1c6",
   "metadata": {},
   "outputs": [
    {
     "data": {
      "text/plain": [
       "True"
      ]
     },
     "execution_count": 5,
     "metadata": {},
     "output_type": "execute_result"
    }
   ],
   "source": [
    "5 > 3"
   ]
  },
  {
   "cell_type": "code",
   "execution_count": 6,
   "id": "1550124b",
   "metadata": {},
   "outputs": [
    {
     "data": {
      "text/plain": [
       "False"
      ]
     },
     "execution_count": 6,
     "metadata": {},
     "output_type": "execute_result"
    }
   ],
   "source": [
    "3 > 5"
   ]
  },
  {
   "cell_type": "code",
   "execution_count": 7,
   "id": "f224e202",
   "metadata": {},
   "outputs": [],
   "source": [
    "# Alistirma \"Kullanicidan yasini input ile ogren, yas 18'den buyuk mu kucuk mu kontrol et\""
   ]
  },
  {
   "cell_type": "code",
   "execution_count": 10,
   "id": "6a995d83",
   "metadata": {},
   "outputs": [
    {
     "name": "stdout",
     "output_type": "stream",
     "text": [
      "Yasinizi girin25\n"
     ]
    }
   ],
   "source": [
    "age = input(\"Yasinizi girin\")"
   ]
  },
  {
   "cell_type": "code",
   "execution_count": 12,
   "id": "0cb38ce7",
   "metadata": {},
   "outputs": [
    {
     "data": {
      "text/plain": [
       "False"
      ]
     },
     "execution_count": 12,
     "metadata": {},
     "output_type": "execute_result"
    }
   ],
   "source": [
    "int(age)<18"
   ]
  },
  {
   "cell_type": "code",
   "execution_count": null,
   "id": "68c1c0a1",
   "metadata": {},
   "outputs": [],
   "source": []
  }
 ],
 "metadata": {
  "kernelspec": {
   "display_name": "Python 3 (ipykernel)",
   "language": "python",
   "name": "python3"
  },
  "language_info": {
   "codemirror_mode": {
    "name": "ipython",
    "version": 3
   },
   "file_extension": ".py",
   "mimetype": "text/x-python",
   "name": "python",
   "nbconvert_exporter": "python",
   "pygments_lexer": "ipython3",
   "version": "3.10.9"
  }
 },
 "nbformat": 4,
 "nbformat_minor": 5
}
