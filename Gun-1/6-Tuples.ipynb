{
 "cells": [
  {
   "cell_type": "code",
   "execution_count": 1,
   "id": "b2a9fc62",
   "metadata": {},
   "outputs": [],
   "source": [
    "# Listeyle kullanimi neredeyse ayni"
   ]
  },
  {
   "cell_type": "code",
   "execution_count": 2,
   "id": "39938d64",
   "metadata": {},
   "outputs": [],
   "source": [
    "myList = [10,\"a\",\"b\", 3.14]"
   ]
  },
  {
   "cell_type": "code",
   "execution_count": 3,
   "id": "8265c08b",
   "metadata": {},
   "outputs": [
    {
     "data": {
      "text/plain": [
       "10"
      ]
     },
     "execution_count": 3,
     "metadata": {},
     "output_type": "execute_result"
    }
   ],
   "source": [
    "myList[0]"
   ]
  },
  {
   "cell_type": "code",
   "execution_count": 4,
   "id": "ecd42310",
   "metadata": {},
   "outputs": [],
   "source": [
    "myList[0]=100"
   ]
  },
  {
   "cell_type": "code",
   "execution_count": 5,
   "id": "806cfe2b",
   "metadata": {},
   "outputs": [
    {
     "data": {
      "text/plain": [
       "[100, 'a', 'b', 3.14]"
      ]
     },
     "execution_count": 5,
     "metadata": {},
     "output_type": "execute_result"
    }
   ],
   "source": [
    "myList"
   ]
  },
  {
   "cell_type": "code",
   "execution_count": 6,
   "id": "7062bbc6",
   "metadata": {},
   "outputs": [],
   "source": [
    "# Ayni listeyi tuple olarak olusturacagiz"
   ]
  },
  {
   "cell_type": "code",
   "execution_count": 7,
   "id": "bea484d5",
   "metadata": {},
   "outputs": [],
   "source": [
    "myTuple = (10,\"a\",\"b\", 3.14)"
   ]
  },
  {
   "cell_type": "code",
   "execution_count": 10,
   "id": "fe9f2f27",
   "metadata": {},
   "outputs": [
    {
     "data": {
      "text/plain": [
       "tuple"
      ]
     },
     "execution_count": 10,
     "metadata": {},
     "output_type": "execute_result"
    }
   ],
   "source": [
    "type(myTuple)"
   ]
  },
  {
   "cell_type": "code",
   "execution_count": 11,
   "id": "7a8613eb",
   "metadata": {},
   "outputs": [
    {
     "data": {
      "text/plain": [
       "(10, 'a', 'b', 3.14)"
      ]
     },
     "execution_count": 11,
     "metadata": {},
     "output_type": "execute_result"
    }
   ],
   "source": [
    "myTuple"
   ]
  },
  {
   "cell_type": "code",
   "execution_count": 12,
   "id": "024af04e",
   "metadata": {},
   "outputs": [],
   "source": [
    "# tuple'da elemanlarin degerleri degistirilemez -> immutability\n",
    "# Sadece index ve count metotlari calisir\n",
    "# Genelde kutuphanelerde kullanilir"
   ]
  },
  {
   "cell_type": "code",
   "execution_count": null,
   "id": "20b06660",
   "metadata": {},
   "outputs": [],
   "source": []
  }
 ],
 "metadata": {
  "kernelspec": {
   "display_name": "Python 3 (ipykernel)",
   "language": "python",
   "name": "python3"
  },
  "language_info": {
   "codemirror_mode": {
    "name": "ipython",
    "version": 3
   },
   "file_extension": ".py",
   "mimetype": "text/x-python",
   "name": "python",
   "nbconvert_exporter": "python",
   "pygments_lexer": "ipython3",
   "version": "3.10.9"
  }
 },
 "nbformat": 4,
 "nbformat_minor": 5
}
