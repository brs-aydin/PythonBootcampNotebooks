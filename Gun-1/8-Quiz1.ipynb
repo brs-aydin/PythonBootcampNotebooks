{
 "cells": [
  {
   "cell_type": "code",
   "execution_count": 1,
   "id": "da5b8512",
   "metadata": {},
   "outputs": [],
   "source": [
    "# 1) Asagidaki string'in 5. harfini bir degiskene atayiniz"
   ]
  },
  {
   "cell_type": "code",
   "execution_count": 2,
   "id": "c931fc52",
   "metadata": {},
   "outputs": [],
   "source": [
    "my_string = \"Python Ogreniyorum\""
   ]
  },
  {
   "cell_type": "code",
   "execution_count": 3,
   "id": "57436ee6",
   "metadata": {},
   "outputs": [],
   "source": [
    "#cevap\n",
    "besinci_harf = my_string[4]"
   ]
  },
  {
   "cell_type": "code",
   "execution_count": 4,
   "id": "7c8a3f0b",
   "metadata": {},
   "outputs": [
    {
     "data": {
      "text/plain": [
       "'o'"
      ]
     },
     "execution_count": 4,
     "metadata": {},
     "output_type": "execute_result"
    }
   ],
   "source": [
    "besinci_harf"
   ]
  },
  {
   "cell_type": "code",
   "execution_count": 5,
   "id": "97c1b830",
   "metadata": {},
   "outputs": [],
   "source": [
    "# 2) Asagidaki String'in 5. ve 8. karakteri arasindaki tum harflerini yazdiriniz (5 ve 8 dahil)"
   ]
  },
  {
   "cell_type": "code",
   "execution_count": 6,
   "id": "c2fe23f7",
   "metadata": {},
   "outputs": [],
   "source": [
    "my_new_string = \"ProgramlamayaMerhabaDedik\""
   ]
  },
  {
   "cell_type": "code",
   "execution_count": 7,
   "id": "f85a7d00",
   "metadata": {},
   "outputs": [
    {
     "data": {
      "text/plain": [
       "'raml'"
      ]
     },
     "execution_count": 7,
     "metadata": {},
     "output_type": "execute_result"
    }
   ],
   "source": [
    "my_new_string[4:8:]"
   ]
  },
  {
   "cell_type": "code",
   "execution_count": 8,
   "id": "e1bd2904",
   "metadata": {},
   "outputs": [],
   "source": [
    "# 3) Asagidaki String'i kod ile tersten yazin"
   ]
  },
  {
   "cell_type": "code",
   "execution_count": 9,
   "id": "8bb0c412",
   "metadata": {},
   "outputs": [],
   "source": [
    "my_last_string = \"Afyonkarahisarlilastiramadiklarimizdanmisiniz\""
   ]
  },
  {
   "cell_type": "code",
   "execution_count": 10,
   "id": "9a94aa75",
   "metadata": {},
   "outputs": [
    {
     "data": {
      "text/plain": [
       "'zinisimnadzimiralkidamaritsalilrasiharaknoyfA'"
      ]
     },
     "execution_count": 10,
     "metadata": {},
     "output_type": "execute_result"
    }
   ],
   "source": [
    "my_last_string[::-1]"
   ]
  },
  {
   "cell_type": "code",
   "execution_count": 11,
   "id": "cbcfd39e",
   "metadata": {},
   "outputs": [],
   "source": [
    "# 4) Asagidaki islemin sonucu hangi veri tipinde olacaktir?"
   ]
  },
  {
   "cell_type": "code",
   "execution_count": 12,
   "id": "1a567bd2",
   "metadata": {},
   "outputs": [],
   "source": [
    "#4 + 12.2 + 48"
   ]
  },
  {
   "cell_type": "code",
   "execution_count": 13,
   "id": "2904b0c5",
   "metadata": {},
   "outputs": [],
   "source": [
    "#cevap: float"
   ]
  },
  {
   "cell_type": "code",
   "execution_count": 14,
   "id": "1cc0f001",
   "metadata": {},
   "outputs": [],
   "source": [
    "sonuc=4 + 12.2 + 48"
   ]
  },
  {
   "cell_type": "code",
   "execution_count": 15,
   "id": "6a6bde56",
   "metadata": {},
   "outputs": [
    {
     "data": {
      "text/plain": [
       "float"
      ]
     },
     "execution_count": 15,
     "metadata": {},
     "output_type": "execute_result"
    }
   ],
   "source": [
    "type(4 + 12.2 + 48)"
   ]
  },
  {
   "cell_type": "code",
   "execution_count": 16,
   "id": "0e9333a1",
   "metadata": {},
   "outputs": [],
   "source": [
    "# 5) Asagidaki islemin sonucu kactir?\n",
    "#5 + 7 * 12 -> İslem onceligi olacagi icin once 7*12= 84 sonrasinda 84+5 islemi olacak ve cevap 89 cıkacaktir"
   ]
  },
  {
   "cell_type": "code",
   "execution_count": 17,
   "id": "4b5a0385",
   "metadata": {},
   "outputs": [
    {
     "data": {
      "text/plain": [
       "89"
      ]
     },
     "execution_count": 17,
     "metadata": {},
     "output_type": "execute_result"
    }
   ],
   "source": [
    "5 + 7 * 12"
   ]
  },
  {
   "cell_type": "code",
   "execution_count": 18,
   "id": "e51c149d",
   "metadata": {},
   "outputs": [],
   "source": [
    "#Bu listeyi en az 2 farkli yoldan olusturunuz: [1,3,\"a\"]"
   ]
  },
  {
   "cell_type": "code",
   "execution_count": 19,
   "id": "cc412e55",
   "metadata": {},
   "outputs": [],
   "source": [
    "myList1=[1,3,\"a\"]"
   ]
  },
  {
   "cell_type": "code",
   "execution_count": 20,
   "id": "7070a91c",
   "metadata": {},
   "outputs": [],
   "source": [
    "myList2=[]"
   ]
  },
  {
   "cell_type": "code",
   "execution_count": 21,
   "id": "e2a98d83",
   "metadata": {},
   "outputs": [],
   "source": [
    "myList2.append(1)\n",
    "myList2.append(3)\n",
    "myList2.append(\"a\")"
   ]
  },
  {
   "cell_type": "code",
   "execution_count": 22,
   "id": "df40ae30",
   "metadata": {},
   "outputs": [
    {
     "data": {
      "text/plain": [
       "[1, 3, 'a']"
      ]
     },
     "execution_count": 22,
     "metadata": {},
     "output_type": "execute_result"
    }
   ],
   "source": [
    "myList1"
   ]
  },
  {
   "cell_type": "code",
   "execution_count": 23,
   "id": "41c88566",
   "metadata": {},
   "outputs": [
    {
     "data": {
      "text/plain": [
       "[1, 3, 'a']"
      ]
     },
     "execution_count": 23,
     "metadata": {},
     "output_type": "execute_result"
    }
   ],
   "source": [
    "myList2"
   ]
  },
  {
   "cell_type": "code",
   "execution_count": 24,
   "id": "82a74916",
   "metadata": {},
   "outputs": [],
   "source": [
    "# 7) Asagidaki \"b\"'yi tek satirda aliniz:\n",
    "#my_list = [3.14,4,[2,3,\"b\"],True]\n"
   ]
  },
  {
   "cell_type": "code",
   "execution_count": 25,
   "id": "8a6a8c01",
   "metadata": {},
   "outputs": [],
   "source": [
    "my_list = [3.14,4,[2,3,\"b\"],True]"
   ]
  },
  {
   "cell_type": "code",
   "execution_count": 26,
   "id": "cc137ed3",
   "metadata": {},
   "outputs": [
    {
     "data": {
      "text/plain": [
       "'b'"
      ]
     },
     "execution_count": 26,
     "metadata": {},
     "output_type": "execute_result"
    }
   ],
   "source": [
    "my_list[2][2]"
   ]
  },
  {
   "cell_type": "code",
   "execution_count": 27,
   "id": "0dec7d3c",
   "metadata": {},
   "outputs": [],
   "source": [
    "# 8) Asagidaki \"a\"'yi tek satirda aliniz:\n",
    "# my_dictionary = {\"key1\":20.25, \"kk2\":[40,{\"k21\":\"a\"}]}"
   ]
  },
  {
   "cell_type": "code",
   "execution_count": 28,
   "id": "d8716c5a",
   "metadata": {},
   "outputs": [],
   "source": [
    "my_dictionary = {\"key1\":20.25, \"kk2\":[40,{\"k21\":\"a\"}]}"
   ]
  },
  {
   "cell_type": "code",
   "execution_count": 29,
   "id": "dc118a0e",
   "metadata": {},
   "outputs": [
    {
     "data": {
      "text/plain": [
       "'a'"
      ]
     },
     "execution_count": 29,
     "metadata": {},
     "output_type": "execute_result"
    }
   ],
   "source": [
    "my_dictionary [\"kk2\"][1][\"k21\"]"
   ]
  },
  {
   "cell_type": "code",
   "execution_count": 30,
   "id": "7483db07",
   "metadata": {},
   "outputs": [],
   "source": [
    "#9) Asagidaki liste set'e cevirilince hangi degerler icinde kalacaktir?\n",
    "#my_list_to_be_set = [3,4,9,3,21,22,4,3,9,10,21,22]"
   ]
  },
  {
   "cell_type": "code",
   "execution_count": 31,
   "id": "510eaf67",
   "metadata": {},
   "outputs": [],
   "source": [
    "#cevap: Set degerinde ayni degerde tek bir eleman olacagi icin 3,4,9,21,22,10 kalacaktir"
   ]
  },
  {
   "cell_type": "code",
   "execution_count": 32,
   "id": "f740f2af",
   "metadata": {},
   "outputs": [],
   "source": [
    "my_list_to_be_set = [3,4,9,3,21,22,4,3,9,10,21,22]"
   ]
  },
  {
   "cell_type": "code",
   "execution_count": 33,
   "id": "8674eb70",
   "metadata": {},
   "outputs": [],
   "source": [
    "my_list_to_be_set = [3,4,9,3,21,22,4,3,9,10,21,22]"
   ]
  },
  {
   "cell_type": "code",
   "execution_count": 34,
   "id": "3e0f8224",
   "metadata": {},
   "outputs": [
    {
     "data": {
      "text/plain": [
       "[3, 4, 9, 3, 21, 22, 4, 3, 9, 10, 21, 22]"
      ]
     },
     "execution_count": 34,
     "metadata": {},
     "output_type": "execute_result"
    }
   ],
   "source": [
    "my_list_to_be_set"
   ]
  },
  {
   "cell_type": "code",
   "execution_count": 35,
   "id": "f6d4dcc4",
   "metadata": {},
   "outputs": [],
   "source": [
    "set_list=set(my_list_to_be_set)"
   ]
  },
  {
   "cell_type": "code",
   "execution_count": 36,
   "id": "5d16e8f0",
   "metadata": {},
   "outputs": [
    {
     "data": {
      "text/plain": [
       "{3, 4, 9, 10, 21, 22}"
      ]
     },
     "execution_count": 36,
     "metadata": {},
     "output_type": "execute_result"
    }
   ],
   "source": [
    "set_list"
   ]
  },
  {
   "cell_type": "code",
   "execution_count": 37,
   "id": "f773b3b6",
   "metadata": {},
   "outputs": [],
   "source": [
    "#10) Asagidaki ifadenin sonucu ne olacaktir?\n",
    "#x = 30 * 5 + 3\n",
    "#y = 108 - 2 * 4\n",
    "#x > y"
   ]
  },
  {
   "cell_type": "code",
   "execution_count": 38,
   "id": "7266751e",
   "metadata": {},
   "outputs": [],
   "source": [
    "#Cevap: x'e atanan deger 153\n",
    "#y'ye atanan eger 100 olacagi icin x y'den buyuk olacaktir. Bu nedenle true olarak cıktı donecektir"
   ]
  },
  {
   "cell_type": "code",
   "execution_count": 39,
   "id": "16bfe974",
   "metadata": {},
   "outputs": [
    {
     "data": {
      "text/plain": [
       "True"
      ]
     },
     "execution_count": 39,
     "metadata": {},
     "output_type": "execute_result"
    }
   ],
   "source": [
    "x = 30 * 5 + 3\n",
    "y = 108 - 2 * 4\n",
    "x > y"
   ]
  },
  {
   "cell_type": "code",
   "execution_count": null,
   "id": "ca587a72",
   "metadata": {},
   "outputs": [],
   "source": []
  }
 ],
 "metadata": {
  "kernelspec": {
   "display_name": "Python 3 (ipykernel)",
   "language": "python",
   "name": "python3"
  },
  "language_info": {
   "codemirror_mode": {
    "name": "ipython",
    "version": 3
   },
   "file_extension": ".py",
   "mimetype": "text/x-python",
   "name": "python",
   "nbconvert_exporter": "python",
   "pygments_lexer": "ipython3",
   "version": "3.10.9"
  }
 },
 "nbformat": 4,
 "nbformat_minor": 5
}
