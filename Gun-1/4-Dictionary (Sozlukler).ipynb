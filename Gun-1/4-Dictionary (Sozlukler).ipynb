{
 "cells": [
  {
   "cell_type": "code",
   "execution_count": 1,
   "id": "98bbf019",
   "metadata": {},
   "outputs": [],
   "source": [
    "#key - value pairing "
   ]
  },
  {
   "cell_type": "code",
   "execution_count": 2,
   "id": "d9708703",
   "metadata": {},
   "outputs": [],
   "source": [
    "fitness_dictionary = {\"banana\":100, \"apple\":150} # Burada banana ve apple anahtar : sonrasinda yazilanlar degerdir"
   ]
  },
  {
   "cell_type": "code",
   "execution_count": 3,
   "id": "c9f7e605",
   "metadata": {},
   "outputs": [
    {
     "data": {
      "text/plain": [
       "dict"
      ]
     },
     "execution_count": 3,
     "metadata": {},
     "output_type": "execute_result"
    }
   ],
   "source": [
    "type(fitness_dictionary)"
   ]
  },
  {
   "cell_type": "code",
   "execution_count": 5,
   "id": "a568492b",
   "metadata": {},
   "outputs": [
    {
     "data": {
      "text/plain": [
       "100"
      ]
     },
     "execution_count": 5,
     "metadata": {},
     "output_type": "execute_result"
    }
   ],
   "source": [
    "fitness_dictionary[\"banana\"] #banana anahtari cagrilinca 100 degerini verecek"
   ]
  },
  {
   "cell_type": "code",
   "execution_count": 6,
   "id": "ee2ef90d",
   "metadata": {},
   "outputs": [
    {
     "data": {
      "text/plain": [
       "150"
      ]
     },
     "execution_count": 6,
     "metadata": {},
     "output_type": "execute_result"
    }
   ],
   "source": [
    "fitness_dictionary[\"apple\"] #apple anahtari cagrilinca 150 degerini verecek"
   ]
  },
  {
   "cell_type": "code",
   "execution_count": 7,
   "id": "a5de251a",
   "metadata": {},
   "outputs": [],
   "source": [
    "#Dictionary Ozellikleri"
   ]
  },
  {
   "cell_type": "code",
   "execution_count": 8,
   "id": "9126b73b",
   "metadata": {},
   "outputs": [
    {
     "data": {
      "text/plain": [
       "dict_keys(['banana', 'apple'])"
      ]
     },
     "execution_count": 8,
     "metadata": {},
     "output_type": "execute_result"
    }
   ],
   "source": [
    "fitness_dictionary.keys() #Sozlukte bulunan anahtarlari gosterir"
   ]
  },
  {
   "cell_type": "code",
   "execution_count": 10,
   "id": "5a15b399",
   "metadata": {},
   "outputs": [
    {
     "data": {
      "text/plain": [
       "dict_values([100, 150])"
      ]
     },
     "execution_count": 10,
     "metadata": {},
     "output_type": "execute_result"
    }
   ],
   "source": [
    "fitness_dictionary.values() #Sozlukte bulunan degerleri verir"
   ]
  },
  {
   "cell_type": "code",
   "execution_count": 11,
   "id": "c97ca564",
   "metadata": {},
   "outputs": [
    {
     "data": {
      "text/plain": [
       "[100, 150]"
      ]
     },
     "execution_count": 11,
     "metadata": {},
     "output_type": "execute_result"
    }
   ],
   "source": [
    "list(fitness_dictionary.values()) #Sozlukte bulunan degerleri listeye cevirir"
   ]
  },
  {
   "cell_type": "code",
   "execution_count": 12,
   "id": "cc31c36a",
   "metadata": {},
   "outputs": [
    {
     "data": {
      "text/plain": [
       "{'banana': 100, 'apple': 150}"
      ]
     },
     "execution_count": 12,
     "metadata": {},
     "output_type": "execute_result"
    }
   ],
   "source": [
    "fitness_dictionary"
   ]
  },
  {
   "cell_type": "code",
   "execution_count": 13,
   "id": "a060dc29",
   "metadata": {},
   "outputs": [],
   "source": [
    "fitness_dictionary[\"banana\"] = 200 #banana anahtarinin degerini 200 yap"
   ]
  },
  {
   "cell_type": "code",
   "execution_count": 14,
   "id": "1d188bda",
   "metadata": {},
   "outputs": [
    {
     "data": {
      "text/plain": [
       "{'banana': 200, 'apple': 150}"
      ]
     },
     "execution_count": 14,
     "metadata": {},
     "output_type": "execute_result"
    }
   ],
   "source": [
    "fitness_dictionary"
   ]
  },
  {
   "cell_type": "code",
   "execution_count": 16,
   "id": "8430127c",
   "metadata": {},
   "outputs": [],
   "source": [
    "fitness_dictionary[\"melon\"] = 300 #melon anahtarini sozluge ekle"
   ]
  },
  {
   "cell_type": "code",
   "execution_count": 18,
   "id": "5c441403",
   "metadata": {},
   "outputs": [
    {
     "data": {
      "text/plain": [
       "0"
      ]
     },
     "execution_count": 18,
     "metadata": {},
     "output_type": "execute_result"
    }
   ],
   "source": [
    "fitness_dictionary.get(\"appl\",0) #Sozlukten anahtarin degerini isterken eger yoksa varsayilan bir deger belirtir\n",
    "#Bu sayede yazilimda olasi cokme ve buglarin onune gecer"
   ]
  },
  {
   "cell_type": "code",
   "execution_count": 19,
   "id": "63c76a29",
   "metadata": {},
   "outputs": [
    {
     "data": {
      "text/plain": [
       "150"
      ]
     },
     "execution_count": 19,
     "metadata": {},
     "output_type": "execute_result"
    }
   ],
   "source": [
    "fitness_dictionary.get(\"apple\",0) "
   ]
  },
  {
   "cell_type": "code",
   "execution_count": 21,
   "id": "72457902",
   "metadata": {},
   "outputs": [],
   "source": [
    "my_mixed_dictionary ={\"key1\":100, \"key2\":3.14,\"key3\":[10,20,30]}"
   ]
  },
  {
   "cell_type": "code",
   "execution_count": 22,
   "id": "7dbaf4f3",
   "metadata": {},
   "outputs": [
    {
     "data": {
      "text/plain": [
       "{'key1': 100, 'key2': 3.14, 'key3': [10, 20, 30]}"
      ]
     },
     "execution_count": 22,
     "metadata": {},
     "output_type": "execute_result"
    }
   ],
   "source": [
    "my_mixed_dictionary"
   ]
  },
  {
   "cell_type": "code",
   "execution_count": 23,
   "id": "3c9584f7",
   "metadata": {},
   "outputs": [],
   "source": [
    "# Alistirma: key3 icersinde bulunan 20 degerini al"
   ]
  },
  {
   "cell_type": "code",
   "execution_count": 24,
   "id": "531629bf",
   "metadata": {},
   "outputs": [
    {
     "data": {
      "text/plain": [
       "20"
      ]
     },
     "execution_count": 24,
     "metadata": {},
     "output_type": "execute_result"
    }
   ],
   "source": [
    "my_mixed_dictionary[\"key3\"][1]"
   ]
  },
  {
   "cell_type": "code",
   "execution_count": 25,
   "id": "ef2116ff",
   "metadata": {},
   "outputs": [],
   "source": [
    "last_dictionary = {\"k1\":10,\"k2\":[10,20,30,40,50], \"k3\":\"string\",\"k4\":{\"a\":100, \"b\":200}}"
   ]
  },
  {
   "cell_type": "code",
   "execution_count": 26,
   "id": "cdac9e25",
   "metadata": {},
   "outputs": [],
   "source": [
    "# Alistirma: tek satirda 200 rakamini ve yine tek satirda 40 rakamini al"
   ]
  },
  {
   "cell_type": "code",
   "execution_count": 33,
   "id": "732c40b5",
   "metadata": {},
   "outputs": [
    {
     "data": {
      "text/plain": [
       "200"
      ]
     },
     "execution_count": 33,
     "metadata": {},
     "output_type": "execute_result"
    }
   ],
   "source": [
    "last_dictionary[\"k4\"][\"b\"] #200 rakamini alir index'le"
   ]
  },
  {
   "cell_type": "code",
   "execution_count": 34,
   "id": "8fc8d12f",
   "metadata": {},
   "outputs": [
    {
     "data": {
      "text/plain": [
       "40"
      ]
     },
     "execution_count": 34,
     "metadata": {},
     "output_type": "execute_result"
    }
   ],
   "source": [
    "last_dictionary[\"k2\"][3] #40 rakamini alir key'le"
   ]
  },
  {
   "cell_type": "code",
   "execution_count": null,
   "id": "549e804b",
   "metadata": {},
   "outputs": [],
   "source": []
  }
 ],
 "metadata": {
  "kernelspec": {
   "display_name": "Python 3 (ipykernel)",
   "language": "python",
   "name": "python3"
  },
  "language_info": {
   "codemirror_mode": {
    "name": "ipython",
    "version": 3
   },
   "file_extension": ".py",
   "mimetype": "text/x-python",
   "name": "python",
   "nbconvert_exporter": "python",
   "pygments_lexer": "ipython3",
   "version": "3.10.9"
  }
 },
 "nbformat": 4,
 "nbformat_minor": 5
}
