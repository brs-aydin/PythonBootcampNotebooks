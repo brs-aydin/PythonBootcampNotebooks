{
 "cells": [
  {
   "cell_type": "code",
   "execution_count": 1,
   "id": "ae518a7b",
   "metadata": {},
   "outputs": [
    {
     "data": {
      "text/plain": [
       "'hello world'"
      ]
     },
     "execution_count": 1,
     "metadata": {},
     "output_type": "execute_result"
    }
   ],
   "source": [
    "\"hello world\""
   ]
  },
  {
   "cell_type": "code",
   "execution_count": 11,
   "id": "1253a2ab",
   "metadata": {},
   "outputs": [],
   "source": [
    "# Bir metin yazilacaksa cift tirnak icerisinde yazılır. Tek tirnakla da kullanilabilir fakat kesme isareti kullanılacaksa\n",
    "# sorunlar yasanabilir"
   ]
  },
  {
   "cell_type": "code",
   "execution_count": 3,
   "id": "769c4bb7",
   "metadata": {},
   "outputs": [
    {
     "name": "stdout",
     "output_type": "stream",
     "text": [
      "hello python\n"
     ]
    }
   ],
   "source": [
    "print (\"hello python\")"
   ]
  },
  {
   "cell_type": "code",
   "execution_count": 4,
   "id": "c7831544",
   "metadata": {},
   "outputs": [],
   "source": [
    "# print komutu ciktilari gosterebilmek icin kullanilir"
   ]
  },
  {
   "cell_type": "code",
   "execution_count": 5,
   "id": "f094b776",
   "metadata": {},
   "outputs": [],
   "source": [
    "name = \"baris\""
   ]
  },
  {
   "cell_type": "code",
   "execution_count": 6,
   "id": "1f93bca1",
   "metadata": {},
   "outputs": [
    {
     "data": {
      "text/plain": [
       "str"
      ]
     },
     "execution_count": 6,
     "metadata": {},
     "output_type": "execute_result"
    }
   ],
   "source": [
    "type (name)"
   ]
  },
  {
   "cell_type": "code",
   "execution_count": 7,
   "id": "0eb5cd63",
   "metadata": {},
   "outputs": [
    {
     "data": {
      "text/plain": [
       "'baris aydin'"
      ]
     },
     "execution_count": 7,
     "metadata": {},
     "output_type": "execute_result"
    }
   ],
   "source": [
    "'baris aydin'"
   ]
  },
  {
   "cell_type": "code",
   "execution_count": 8,
   "id": "159f18f7",
   "metadata": {},
   "outputs": [
    {
     "data": {
      "text/plain": [
       "'baris aydin'"
      ]
     },
     "execution_count": 8,
     "metadata": {},
     "output_type": "execute_result"
    }
   ],
   "source": [
    "\"baris aydin\""
   ]
  },
  {
   "cell_type": "code",
   "execution_count": 9,
   "id": "d4836119",
   "metadata": {},
   "outputs": [
    {
     "data": {
      "text/plain": [
       "\"baris's restaurant\""
      ]
     },
     "execution_count": 9,
     "metadata": {},
     "output_type": "execute_result"
    }
   ],
   "source": [
    "\"baris's restaurant\""
   ]
  },
  {
   "cell_type": "code",
   "execution_count": 12,
   "id": "91cbb134",
   "metadata": {},
   "outputs": [],
   "source": [
    "name = \"baris\""
   ]
  },
  {
   "cell_type": "code",
   "execution_count": 13,
   "id": "301a0e18",
   "metadata": {},
   "outputs": [
    {
     "data": {
      "text/plain": [
       "str"
      ]
     },
     "execution_count": 13,
     "metadata": {},
     "output_type": "execute_result"
    }
   ],
   "source": [
    "type (name)"
   ]
  },
  {
   "cell_type": "code",
   "execution_count": 14,
   "id": "e3fdca5e",
   "metadata": {},
   "outputs": [],
   "source": [
    "name = \"baris aydin\""
   ]
  },
  {
   "cell_type": "code",
   "execution_count": 15,
   "id": "48538714",
   "metadata": {},
   "outputs": [
    {
     "data": {
      "text/plain": [
       "'Baris aydin'"
      ]
     },
     "execution_count": 15,
     "metadata": {},
     "output_type": "execute_result"
    }
   ],
   "source": [
    "name.capitalize()"
   ]
  },
  {
   "cell_type": "code",
   "execution_count": 19,
   "id": "064b871e",
   "metadata": {},
   "outputs": [],
   "source": [
    "# capitalize ilk harfi buyuk harfle yazdirir. Parantez eklemenin sebebi fonksiyonun calistirilmasi icin"
   ]
  },
  {
   "cell_type": "code",
   "execution_count": 20,
   "id": "4f18f7d2",
   "metadata": {},
   "outputs": [
    {
     "data": {
      "text/plain": [
       "'baris aydin'"
      ]
     },
     "execution_count": 20,
     "metadata": {},
     "output_type": "execute_result"
    }
   ],
   "source": [
    "name"
   ]
  },
  {
   "cell_type": "code",
   "execution_count": 21,
   "id": "99ca7360",
   "metadata": {},
   "outputs": [
    {
     "name": "stdout",
     "output_type": "stream",
     "text": [
      "Help on built-in function count:\n",
      "\n",
      "count(...) method of builtins.str instance\n",
      "    S.count(sub[, start[, end]]) -> int\n",
      "    \n",
      "    Return the number of non-overlapping occurrences of substring sub in\n",
      "    string S[start:end].  Optional arguments start and end are\n",
      "    interpreted as in slice notation.\n",
      "\n"
     ]
    }
   ],
   "source": [
    "help(name.count)"
   ]
  },
  {
   "cell_type": "code",
   "execution_count": 22,
   "id": "c1e9cb08",
   "metadata": {},
   "outputs": [
    {
     "name": "stdout",
     "output_type": "stream",
     "text": [
      "Help on built-in function capitalize:\n",
      "\n",
      "capitalize() method of builtins.str instance\n",
      "    Return a capitalized version of the string.\n",
      "    \n",
      "    More specifically, make the first character have upper case and the rest lower\n",
      "    case.\n",
      "\n"
     ]
    }
   ],
   "source": [
    "help(name.capitalize)"
   ]
  },
  {
   "cell_type": "code",
   "execution_count": 23,
   "id": "b3180fd4",
   "metadata": {},
   "outputs": [
    {
     "data": {
      "text/plain": [
       "'baris aydin'"
      ]
     },
     "execution_count": 23,
     "metadata": {},
     "output_type": "execute_result"
    }
   ],
   "source": [
    "name"
   ]
  },
  {
   "cell_type": "code",
   "execution_count": 24,
   "id": "ab8ca486",
   "metadata": {},
   "outputs": [],
   "source": [
    "# help fonksiyonu metodun ne ise yaradigini ogrenmek icin bilgi verir"
   ]
  },
  {
   "cell_type": "code",
   "execution_count": 25,
   "id": "74402d5f",
   "metadata": {},
   "outputs": [
    {
     "data": {
      "text/plain": [
       "2"
      ]
     },
     "execution_count": 25,
     "metadata": {},
     "output_type": "execute_result"
    }
   ],
   "source": [
    "name.count(\"a\")"
   ]
  },
  {
   "cell_type": "code",
   "execution_count": 26,
   "id": "d53540b1",
   "metadata": {},
   "outputs": [],
   "source": [
    "# Count metodu bir degiskende kac adet istenilen harfin bulundugunu hesaplar ve cıktısını verir"
   ]
  },
  {
   "cell_type": "code",
   "execution_count": 27,
   "id": "e1c8e377",
   "metadata": {},
   "outputs": [
    {
     "data": {
      "text/plain": [
       "0"
      ]
     },
     "execution_count": 27,
     "metadata": {},
     "output_type": "execute_result"
    }
   ],
   "source": [
    "name.count(\"t\")"
   ]
  },
  {
   "cell_type": "code",
   "execution_count": 28,
   "id": "d8e803b0",
   "metadata": {},
   "outputs": [
    {
     "data": {
      "text/plain": [
       "'BARIS AYDIN'"
      ]
     },
     "execution_count": 28,
     "metadata": {},
     "output_type": "execute_result"
    }
   ],
   "source": [
    "name.upper()"
   ]
  },
  {
   "cell_type": "code",
   "execution_count": 29,
   "id": "04bbcc24",
   "metadata": {},
   "outputs": [],
   "source": [
    "# upper metodu degiskende bulunan tum harfleri buyuk yapar"
   ]
  },
  {
   "cell_type": "code",
   "execution_count": 30,
   "id": "bc8ac450",
   "metadata": {},
   "outputs": [
    {
     "data": {
      "text/plain": [
       "'baris aydin'"
      ]
     },
     "execution_count": 30,
     "metadata": {},
     "output_type": "execute_result"
    }
   ],
   "source": [
    "name"
   ]
  },
  {
   "cell_type": "code",
   "execution_count": 31,
   "id": "3629919b",
   "metadata": {},
   "outputs": [],
   "source": [
    "# Bazi fonksiyonlar yeni bir degisken olusturabilir. "
   ]
  },
  {
   "cell_type": "code",
   "execution_count": 32,
   "id": "89f8f2b0",
   "metadata": {},
   "outputs": [],
   "source": [
    "nameUpper = name.upper()"
   ]
  },
  {
   "cell_type": "code",
   "execution_count": 33,
   "id": "5a88c6c5",
   "metadata": {},
   "outputs": [
    {
     "data": {
      "text/plain": [
       "'BARIS AYDIN'"
      ]
     },
     "execution_count": 33,
     "metadata": {},
     "output_type": "execute_result"
    }
   ],
   "source": [
    "nameUpper"
   ]
  },
  {
   "cell_type": "code",
   "execution_count": 34,
   "id": "e02ea071",
   "metadata": {},
   "outputs": [],
   "source": [
    "# Yapilan degisikligi sadece kullaniciya gosterecek ve bir daha kullanmayacaksak baska bir degiskene esitlememize gerek yok\n",
    "# fakat sonrasında kullanacaksak sonucu farkli bir degiskene esitleyebiliriz"
   ]
  },
  {
   "cell_type": "code",
   "execution_count": 36,
   "id": "ad12ebd8",
   "metadata": {},
   "outputs": [
    {
     "name": "stdout",
     "output_type": "stream",
     "text": [
      "BARIS AYDIN\n"
     ]
    }
   ],
   "source": [
    "print (name.upper()) # Sadece kullaniciya gosterilmesi icin kaydedilmeyen degisiklik"
   ]
  },
  {
   "cell_type": "code",
   "execution_count": 37,
   "id": "95f1f8e2",
   "metadata": {},
   "outputs": [
    {
     "data": {
      "text/plain": [
       "11"
      ]
     },
     "execution_count": 37,
     "metadata": {},
     "output_type": "execute_result"
    }
   ],
   "source": [
    "len (name) # lenght degiskende bulunan karakter sayisini belirtir"
   ]
  },
  {
   "cell_type": "code",
   "execution_count": 38,
   "id": "8108fece",
   "metadata": {},
   "outputs": [
    {
     "name": "stdout",
     "output_type": "stream",
     "text": [
      "baris aydin\n"
     ]
    }
   ],
   "source": [
    "print (\"baris aydin\")"
   ]
  },
  {
   "cell_type": "code",
   "execution_count": 39,
   "id": "5923ce10",
   "metadata": {},
   "outputs": [
    {
     "name": "stdout",
     "output_type": "stream",
     "text": [
      "baris \n",
      "aydin\n"
     ]
    }
   ],
   "source": [
    "print (\"baris \\naydin\") "
   ]
  },
  {
   "cell_type": "code",
   "execution_count": 41,
   "id": "1df16851",
   "metadata": {},
   "outputs": [],
   "source": [
    "# \\n -> new line (Yeni satira gecer) Escape characters"
   ]
  },
  {
   "cell_type": "code",
   "execution_count": 42,
   "id": "2178fd4a",
   "metadata": {},
   "outputs": [
    {
     "name": "stdout",
     "output_type": "stream",
     "text": [
      "baris \taydin\n"
     ]
    }
   ],
   "source": [
    "print (\"baris \\taydin\")"
   ]
  },
  {
   "cell_type": "code",
   "execution_count": 43,
   "id": "ff2e7ba5",
   "metadata": {},
   "outputs": [],
   "source": [
    "# \\t -> tab (Bir tablik bosluk olusturur)"
   ]
  },
  {
   "cell_type": "markdown",
   "id": "4c00d0b2",
   "metadata": {},
   "source": [
    "# index"
   ]
  },
  {
   "cell_type": "code",
   "execution_count": 44,
   "id": "fc7fb553",
   "metadata": {},
   "outputs": [],
   "source": [
    "# Arka planda bir string olustururken tum karakterler bir index'e atanir. Bu sayede \n",
    "# degiskende bulunan diledigimiz harfin index'ini cagirabiliriz\n",
    "# Not: Index'ler 0'dan baslar"
   ]
  },
  {
   "cell_type": "code",
   "execution_count": 45,
   "id": "de6dc60f",
   "metadata": {},
   "outputs": [],
   "source": [
    "myString = \"hello world\""
   ]
  },
  {
   "cell_type": "code",
   "execution_count": 46,
   "id": "2730408a",
   "metadata": {},
   "outputs": [
    {
     "data": {
      "text/plain": [
       "'o'"
      ]
     },
     "execution_count": 46,
     "metadata": {},
     "output_type": "execute_result"
    }
   ],
   "source": [
    "myString[4]"
   ]
  },
  {
   "cell_type": "code",
   "execution_count": 47,
   "id": "53598ef3",
   "metadata": {},
   "outputs": [
    {
     "data": {
      "text/plain": [
       "'l'"
      ]
     },
     "execution_count": 47,
     "metadata": {},
     "output_type": "execute_result"
    }
   ],
   "source": [
    "myString[9]"
   ]
  },
  {
   "cell_type": "code",
   "execution_count": 48,
   "id": "bf0de669",
   "metadata": {},
   "outputs": [],
   "source": [
    "# index istenirken koseli parantez ([]) icerisinde yazilir"
   ]
  },
  {
   "cell_type": "code",
   "execution_count": 50,
   "id": "ff3cace1",
   "metadata": {},
   "outputs": [
    {
     "data": {
      "text/plain": [
       "'d'"
      ]
     },
     "execution_count": 50,
     "metadata": {},
     "output_type": "execute_result"
    }
   ],
   "source": [
    "myString[10]"
   ]
  },
  {
   "cell_type": "code",
   "execution_count": 51,
   "id": "2ba1bc42",
   "metadata": {},
   "outputs": [],
   "source": [
    "# Bir degiskenin ilk index'ini almak icin 0 kullanilabilir. Eger son degeri almak istersek len(myString) - 1 diyerek\n",
    "# degisken uzunlugundan 1 cıkartıp son index'i bulabiliriz"
   ]
  },
  {
   "cell_type": "code",
   "execution_count": 52,
   "id": "2141530f",
   "metadata": {},
   "outputs": [
    {
     "data": {
      "text/plain": [
       "10"
      ]
     },
     "execution_count": 52,
     "metadata": {},
     "output_type": "execute_result"
    }
   ],
   "source": [
    "len(myString) - 1"
   ]
  },
  {
   "cell_type": "code",
   "execution_count": 60,
   "id": "f1fa0826",
   "metadata": {},
   "outputs": [],
   "source": [
    "# Alıştırma: Index cagırarak degiskenin son harfini bul (Index saymadan)"
   ]
  },
  {
   "cell_type": "code",
   "execution_count": 54,
   "id": "00ff8e1e",
   "metadata": {},
   "outputs": [],
   "source": [
    "myName = \"james hetfield\""
   ]
  },
  {
   "cell_type": "code",
   "execution_count": 58,
   "id": "ea480128",
   "metadata": {},
   "outputs": [
    {
     "data": {
      "text/plain": [
       "'d'"
      ]
     },
     "execution_count": 58,
     "metadata": {},
     "output_type": "execute_result"
    }
   ],
   "source": [
    "myName[len(myName)-1]"
   ]
  },
  {
   "cell_type": "code",
   "execution_count": 59,
   "id": "580ad304",
   "metadata": {},
   "outputs": [
    {
     "data": {
      "text/plain": [
       "'d'"
      ]
     },
     "execution_count": 59,
     "metadata": {},
     "output_type": "execute_result"
    }
   ],
   "source": [
    "myName[-1]"
   ]
  },
  {
   "cell_type": "code",
   "execution_count": 61,
   "id": "d1639270",
   "metadata": {},
   "outputs": [],
   "source": [
    "# Eger -1'inci index'i istersek python otomatik olarak son karakteri alacaktir. "
   ]
  },
  {
   "cell_type": "code",
   "execution_count": 62,
   "id": "1580eee0",
   "metadata": {},
   "outputs": [
    {
     "data": {
      "text/plain": [
       "'l'"
      ]
     },
     "execution_count": 62,
     "metadata": {},
     "output_type": "execute_result"
    }
   ],
   "source": [
    "myName[-2] # Sondan bir onceki karakter"
   ]
  },
  {
   "cell_type": "code",
   "execution_count": 63,
   "id": "64e8ef59",
   "metadata": {},
   "outputs": [],
   "source": [
    "# Slicing"
   ]
  },
  {
   "cell_type": "code",
   "execution_count": 64,
   "id": "f80a58e1",
   "metadata": {},
   "outputs": [],
   "source": [
    "barcode = \"ABCDE123123982\""
   ]
  },
  {
   "cell_type": "code",
   "execution_count": 65,
   "id": "f68a91bf",
   "metadata": {},
   "outputs": [
    {
     "data": {
      "text/plain": [
       "'A'"
      ]
     },
     "execution_count": 65,
     "metadata": {},
     "output_type": "execute_result"
    }
   ],
   "source": [
    "barcode[0]"
   ]
  },
  {
   "cell_type": "code",
   "execution_count": 66,
   "id": "3e5982ea",
   "metadata": {},
   "outputs": [
    {
     "data": {
      "text/plain": [
       "'B'"
      ]
     },
     "execution_count": 66,
     "metadata": {},
     "output_type": "execute_result"
    }
   ],
   "source": [
    "barcode[1]"
   ]
  },
  {
   "cell_type": "code",
   "execution_count": 67,
   "id": "7ae2c4d1",
   "metadata": {},
   "outputs": [
    {
     "data": {
      "text/plain": [
       "'C'"
      ]
     },
     "execution_count": 67,
     "metadata": {},
     "output_type": "execute_result"
    }
   ],
   "source": [
    "barcode[2]"
   ]
  },
  {
   "cell_type": "code",
   "execution_count": 68,
   "id": "833a23cd",
   "metadata": {},
   "outputs": [],
   "source": [
    "# Stringler toplanması için + kullanilabilir. Örnek fullname= name + \" \" + surname"
   ]
  },
  {
   "cell_type": "code",
   "execution_count": 69,
   "id": "bb2fa322",
   "metadata": {},
   "outputs": [],
   "source": [
    "# barcode degiskeninin ilk 3 harfini almak icin\n",
    "# barcode[0] + barcode[1] + barcode[2]"
   ]
  },
  {
   "cell_type": "code",
   "execution_count": 70,
   "id": "5386ba0b",
   "metadata": {},
   "outputs": [
    {
     "data": {
      "text/plain": [
       "'ABC'"
      ]
     },
     "execution_count": 70,
     "metadata": {},
     "output_type": "execute_result"
    }
   ],
   "source": [
    "barcode[0] + barcode[1] + barcode[2]"
   ]
  },
  {
   "cell_type": "code",
   "execution_count": 71,
   "id": "ac5d03f2",
   "metadata": {},
   "outputs": [],
   "source": [
    "# Kolay hali slicing"
   ]
  },
  {
   "cell_type": "code",
   "execution_count": 72,
   "id": "b3e260a2",
   "metadata": {},
   "outputs": [],
   "source": [
    "# slicing starting index (Baslangic index'i), stopping index (durulacak index'i), stepping index (kacar kacar ilerleyelim)"
   ]
  },
  {
   "cell_type": "code",
   "execution_count": 74,
   "id": "343b3c91",
   "metadata": {},
   "outputs": [
    {
     "data": {
      "text/plain": [
       "'DE123123982'"
      ]
     },
     "execution_count": 74,
     "metadata": {},
     "output_type": "execute_result"
    }
   ],
   "source": [
    "barcode [3::] # 3. index'ten basla"
   ]
  },
  {
   "cell_type": "code",
   "execution_count": 76,
   "id": "ee8bee04",
   "metadata": {},
   "outputs": [
    {
     "data": {
      "text/plain": [
       "'ABC'"
      ]
     },
     "execution_count": 76,
     "metadata": {},
     "output_type": "execute_result"
    }
   ],
   "source": [
    "barcode [:3:] # 3. index'te dur. 3. index'i almayacaktir"
   ]
  },
  {
   "cell_type": "code",
   "execution_count": 78,
   "id": "edf13a6a",
   "metadata": {},
   "outputs": [
    {
     "data": {
      "text/plain": [
       "'ACE2138'"
      ]
     },
     "execution_count": 78,
     "metadata": {},
     "output_type": "execute_result"
    }
   ],
   "source": [
    "barcode[::2] # Degerleri alirken ikiser atlayarak aliyor"
   ]
  },
  {
   "cell_type": "code",
   "execution_count": 79,
   "id": "8d7f177a",
   "metadata": {},
   "outputs": [
    {
     "data": {
      "text/plain": [
       "'DE'"
      ]
     },
     "execution_count": 79,
     "metadata": {},
     "output_type": "execute_result"
    }
   ],
   "source": [
    "barcode[3:5:] # 3. indexten basla 5. index'e geldiginde dur"
   ]
  },
  {
   "cell_type": "code",
   "execution_count": 80,
   "id": "5c876898",
   "metadata": {},
   "outputs": [
    {
     "data": {
      "text/plain": [
       "'289321321EDCBA'"
      ]
     },
     "execution_count": 80,
     "metadata": {},
     "output_type": "execute_result"
    }
   ],
   "source": [
    "barcode[::-1] # Tersten index yazdirma"
   ]
  },
  {
   "cell_type": "code",
   "execution_count": 81,
   "id": "e783bc17",
   "metadata": {},
   "outputs": [],
   "source": [
    "name = \"baris aydin\""
   ]
  },
  {
   "cell_type": "code",
   "execution_count": 83,
   "id": "041b8ff1",
   "metadata": {},
   "outputs": [
    {
     "data": {
      "text/plain": [
       "4"
      ]
     },
     "execution_count": 83,
     "metadata": {},
     "output_type": "execute_result"
    }
   ],
   "source": [
    "name.index(\"s\") # ilk s karakterini hangi index'te bulundugunu paylasir"
   ]
  },
  {
   "cell_type": "code",
   "execution_count": 84,
   "id": "25b96418",
   "metadata": {},
   "outputs": [
    {
     "data": {
      "text/plain": [
       "['baris', 'aydin']"
      ]
     },
     "execution_count": 84,
     "metadata": {},
     "output_type": "execute_result"
    }
   ],
   "source": [
    "name.split() # Bosluga gore metni bolup liste veri tipinde duzenler"
   ]
  },
  {
   "cell_type": "code",
   "execution_count": null,
   "id": "725056b9",
   "metadata": {},
   "outputs": [],
   "source": []
  }
 ],
 "metadata": {
  "kernelspec": {
   "display_name": "Python 3 (ipykernel)",
   "language": "python",
   "name": "python3"
  },
  "language_info": {
   "codemirror_mode": {
    "name": "ipython",
    "version": 3
   },
   "file_extension": ".py",
   "mimetype": "text/x-python",
   "name": "python",
   "nbconvert_exporter": "python",
   "pygments_lexer": "ipython3",
   "version": "3.10.9"
  }
 },
 "nbformat": 4,
 "nbformat_minor": 5
}
