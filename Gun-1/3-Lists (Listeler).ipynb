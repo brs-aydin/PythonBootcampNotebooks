{
 "cells": [
  {
   "cell_type": "code",
   "execution_count": 1,
   "id": "1a9aec99",
   "metadata": {},
   "outputs": [],
   "source": [
    "myString = \"hello python\""
   ]
  },
  {
   "cell_type": "code",
   "execution_count": 2,
   "id": "c9ce82a0",
   "metadata": {},
   "outputs": [
    {
     "data": {
      "text/plain": [
       "['hello', 'python']"
      ]
     },
     "execution_count": 2,
     "metadata": {},
     "output_type": "execute_result"
    }
   ],
   "source": [
    "myString.split()"
   ]
  },
  {
   "cell_type": "code",
   "execution_count": 3,
   "id": "e02917c0",
   "metadata": {},
   "outputs": [
    {
     "data": {
      "text/plain": [
       "list"
      ]
     },
     "execution_count": 3,
     "metadata": {},
     "output_type": "execute_result"
    }
   ],
   "source": [
    "type(myString.split())"
   ]
  },
  {
   "cell_type": "code",
   "execution_count": 4,
   "id": "90327b52",
   "metadata": {},
   "outputs": [],
   "source": [
    "#List: Icerisinde birden fazla veri tutan tip"
   ]
  },
  {
   "cell_type": "code",
   "execution_count": 5,
   "id": "f241c8bd",
   "metadata": {},
   "outputs": [],
   "source": [
    "# Eğer bir string'in index degerini degistirmek istersek hata aliriz. Bu duruma immutable - immutability\n",
    "# yani degistirilemez ozelligi bulunur. Bu nedenle komple string degistirebiliriz fakat tek bir karakteri degistiremeyiz\n",
    "#myString[0]=\"a\" Hata alacaktır. Bu ihtiyacimiz icin Lists (Listeler) kullanabiliriz"
   ]
  },
  {
   "cell_type": "markdown",
   "id": "e6fccc33",
   "metadata": {},
   "source": [
    "# list"
   ]
  },
  {
   "cell_type": "code",
   "execution_count": 6,
   "id": "ba1a77a7",
   "metadata": {},
   "outputs": [],
   "source": [
    "myList = [10,20,30] # Elemanlari degiskenlere esitlemeden direkt olarak [] icerisine tanimlayabiliriz"
   ]
  },
  {
   "cell_type": "code",
   "execution_count": 7,
   "id": "17f45bda",
   "metadata": {},
   "outputs": [
    {
     "data": {
      "text/plain": [
       "list"
      ]
     },
     "execution_count": 7,
     "metadata": {},
     "output_type": "execute_result"
    }
   ],
   "source": [
    "type(myList)"
   ]
  },
  {
   "cell_type": "code",
   "execution_count": 10,
   "id": "978da759",
   "metadata": {},
   "outputs": [],
   "source": [
    "x = 10\n",
    "y = 20\n",
    "z= 30"
   ]
  },
  {
   "cell_type": "code",
   "execution_count": 13,
   "id": "b4466204",
   "metadata": {},
   "outputs": [],
   "source": [
    "myList = [x,y,z] # Degisken olarakta liste icerisine ekleyebiliriz"
   ]
  },
  {
   "cell_type": "code",
   "execution_count": 12,
   "id": "2371f339",
   "metadata": {},
   "outputs": [
    {
     "data": {
      "text/plain": [
       "[10, 20, 30]"
      ]
     },
     "execution_count": 12,
     "metadata": {},
     "output_type": "execute_result"
    }
   ],
   "source": [
    "myList"
   ]
  },
  {
   "cell_type": "code",
   "execution_count": 14,
   "id": "cd451149",
   "metadata": {},
   "outputs": [],
   "source": [
    "# Ayni index mantigini kullanarak listede bulunan elemani cagirabiliriz"
   ]
  },
  {
   "cell_type": "code",
   "execution_count": 15,
   "id": "6950b11a",
   "metadata": {},
   "outputs": [
    {
     "data": {
      "text/plain": [
       "20"
      ]
     },
     "execution_count": 15,
     "metadata": {},
     "output_type": "execute_result"
    }
   ],
   "source": [
    "myList[1]"
   ]
  },
  {
   "cell_type": "code",
   "execution_count": 18,
   "id": "c2adeb0f",
   "metadata": {},
   "outputs": [],
   "source": [
    "myList[0]=100 #mutable, mutability -> Listelerde elamanlarin index'ini kullanarak degisiklik yapilabilir"
   ]
  },
  {
   "cell_type": "code",
   "execution_count": 17,
   "id": "b521e921",
   "metadata": {},
   "outputs": [
    {
     "data": {
      "text/plain": [
       "[100, 20, 30]"
      ]
     },
     "execution_count": 17,
     "metadata": {},
     "output_type": "execute_result"
    }
   ],
   "source": [
    "myList"
   ]
  },
  {
   "cell_type": "code",
   "execution_count": 20,
   "id": "bb7b0117",
   "metadata": {},
   "outputs": [
    {
     "data": {
      "text/plain": [
       "3"
      ]
     },
     "execution_count": 20,
     "metadata": {},
     "output_type": "execute_result"
    }
   ],
   "source": [
    "len(myList)#Liste icerisinde bulunan elemanlarin sayisini gosterir"
   ]
  },
  {
   "cell_type": "code",
   "execution_count": 21,
   "id": "fa7274e7",
   "metadata": {},
   "outputs": [],
   "source": [
    "myList.append(80) #Listeye eleman ekler."
   ]
  },
  {
   "cell_type": "code",
   "execution_count": 22,
   "id": "e609188c",
   "metadata": {},
   "outputs": [],
   "source": [
    "myList.append(1)"
   ]
  },
  {
   "cell_type": "code",
   "execution_count": 23,
   "id": "e8c3d1b9",
   "metadata": {},
   "outputs": [
    {
     "data": {
      "text/plain": [
       "[100, 20, 30, 80, 1]"
      ]
     },
     "execution_count": 23,
     "metadata": {},
     "output_type": "execute_result"
    }
   ],
   "source": [
    "myList"
   ]
  },
  {
   "cell_type": "code",
   "execution_count": 24,
   "id": "9d059b11",
   "metadata": {},
   "outputs": [
    {
     "data": {
      "text/plain": [
       "1"
      ]
     },
     "execution_count": 24,
     "metadata": {},
     "output_type": "execute_result"
    }
   ],
   "source": [
    "myList.count(20) # Icerisinde kac adet 20 degerine sahip eleman oldugunu belirtir"
   ]
  },
  {
   "cell_type": "code",
   "execution_count": 26,
   "id": "522a37d8",
   "metadata": {},
   "outputs": [
    {
     "data": {
      "text/plain": [
       "2"
      ]
     },
     "execution_count": 26,
     "metadata": {},
     "output_type": "execute_result"
    }
   ],
   "source": [
    "myList.index(30) # Ilk 30 degerine sahip olan elemanin index'ini verir"
   ]
  },
  {
   "cell_type": "code",
   "execution_count": 34,
   "id": "fb704518",
   "metadata": {},
   "outputs": [],
   "source": [
    "myList.insert(2,30) # 2. index'e 30 degerinde elemani ekler ve 2.index'te bulunan eski elemanin arasina ekledigi icin\n",
    "#veri kaybi yasanmaz"
   ]
  },
  {
   "cell_type": "code",
   "execution_count": 35,
   "id": "3c6f4f58",
   "metadata": {},
   "outputs": [
    {
     "data": {
      "text/plain": [
       "[100, 20, 30, 30, 30, 40, 30, 80, 40, 1]"
      ]
     },
     "execution_count": 35,
     "metadata": {},
     "output_type": "execute_result"
    }
   ],
   "source": [
    "myList"
   ]
  },
  {
   "cell_type": "code",
   "execution_count": 37,
   "id": "5f5739c2",
   "metadata": {},
   "outputs": [
    {
     "data": {
      "text/plain": [
       "1"
      ]
     },
     "execution_count": 37,
     "metadata": {},
     "output_type": "execute_result"
    }
   ],
   "source": [
    "myList.pop() #Listenin son elemanini atar (listeden cikarir)"
   ]
  },
  {
   "cell_type": "code",
   "execution_count": 38,
   "id": "73b115a8",
   "metadata": {},
   "outputs": [
    {
     "data": {
      "text/plain": [
       "[100, 20, 30, 30, 30, 40, 30, 80, 40]"
      ]
     },
     "execution_count": 38,
     "metadata": {},
     "output_type": "execute_result"
    }
   ],
   "source": [
    "myList"
   ]
  },
  {
   "cell_type": "code",
   "execution_count": 45,
   "id": "0fcb41a3",
   "metadata": {},
   "outputs": [],
   "source": [
    "myList.remove(30) # Degeri 30 olan ilk elemani siler"
   ]
  },
  {
   "cell_type": "code",
   "execution_count": 46,
   "id": "04cfb5df",
   "metadata": {},
   "outputs": [
    {
     "data": {
      "text/plain": [
       "[100, 20, 40, 80, 40]"
      ]
     },
     "execution_count": 46,
     "metadata": {},
     "output_type": "execute_result"
    }
   ],
   "source": [
    "myList"
   ]
  },
  {
   "cell_type": "code",
   "execution_count": 47,
   "id": "0988c964",
   "metadata": {},
   "outputs": [],
   "source": [
    "myList.reverse() #elemanlari ters cevirir"
   ]
  },
  {
   "cell_type": "code",
   "execution_count": 48,
   "id": "31d92590",
   "metadata": {},
   "outputs": [
    {
     "data": {
      "text/plain": [
       "[40, 80, 40, 20, 100]"
      ]
     },
     "execution_count": 48,
     "metadata": {},
     "output_type": "execute_result"
    }
   ],
   "source": [
    "myList"
   ]
  },
  {
   "cell_type": "code",
   "execution_count": 51,
   "id": "5653e28d",
   "metadata": {},
   "outputs": [],
   "source": [
    "myList.sort() # Siralama yapiyor. Ornegin sayilarda kucukten buyuge siralar"
   ]
  },
  {
   "cell_type": "code",
   "execution_count": 52,
   "id": "06fe3a3e",
   "metadata": {},
   "outputs": [
    {
     "data": {
      "text/plain": [
       "[20, 40, 40, 80, 100]"
      ]
     },
     "execution_count": 52,
     "metadata": {},
     "output_type": "execute_result"
    }
   ],
   "source": [
    "myList"
   ]
  },
  {
   "cell_type": "code",
   "execution_count": 53,
   "id": "fc3a3dfc",
   "metadata": {},
   "outputs": [
    {
     "name": "stdout",
     "output_type": "stream",
     "text": [
      "enter x10\n"
     ]
    }
   ],
   "source": [
    "x = input(\"enter x\") #input kullanicidan deger ister. (\"buraya mesaj yazabilir ve kullaniciya gosterebilirsin\")"
   ]
  },
  {
   "cell_type": "code",
   "execution_count": 54,
   "id": "d7a4fe16",
   "metadata": {},
   "outputs": [
    {
     "data": {
      "text/plain": [
       "'10'"
      ]
     },
     "execution_count": 54,
     "metadata": {},
     "output_type": "execute_result"
    }
   ],
   "source": [
    "x"
   ]
  },
  {
   "cell_type": "code",
   "execution_count": 55,
   "id": "b6ea2179",
   "metadata": {},
   "outputs": [],
   "source": [
    "#inputtan gelen her sey string olarak alinir"
   ]
  },
  {
   "cell_type": "code",
   "execution_count": 56,
   "id": "bb0b720a",
   "metadata": {},
   "outputs": [
    {
     "name": "stdout",
     "output_type": "stream",
     "text": [
      "enter y:20\n"
     ]
    }
   ],
   "source": [
    "y = input(\"enter y:\")"
   ]
  },
  {
   "cell_type": "code",
   "execution_count": 57,
   "id": "725a8bd7",
   "metadata": {},
   "outputs": [
    {
     "name": "stdout",
     "output_type": "stream",
     "text": [
      "enter z:30\n"
     ]
    }
   ],
   "source": [
    "z = input(\"enter z:\")"
   ]
  },
  {
   "cell_type": "code",
   "execution_count": 58,
   "id": "e485e9b4",
   "metadata": {},
   "outputs": [],
   "source": [
    "inputList=[]"
   ]
  },
  {
   "cell_type": "code",
   "execution_count": 59,
   "id": "4c34c964",
   "metadata": {},
   "outputs": [],
   "source": [
    "inputList.append(x)\n",
    "inputList.append(y)\n",
    "inputList.append(z)"
   ]
  },
  {
   "cell_type": "code",
   "execution_count": 60,
   "id": "e61921fa",
   "metadata": {},
   "outputs": [
    {
     "data": {
      "text/plain": [
       "['10', '20', '30']"
      ]
     },
     "execution_count": 60,
     "metadata": {},
     "output_type": "execute_result"
    }
   ],
   "source": [
    "inputList"
   ]
  },
  {
   "cell_type": "code",
   "execution_count": 61,
   "id": "53186450",
   "metadata": {},
   "outputs": [],
   "source": [
    "# Veri tipi degistirme"
   ]
  },
  {
   "cell_type": "code",
   "execution_count": 62,
   "id": "4b4a0df3",
   "metadata": {},
   "outputs": [],
   "source": [
    "myInteger = 50 # 50 degerinde bir int degiskeni"
   ]
  },
  {
   "cell_type": "code",
   "execution_count": 63,
   "id": "8547c0b9",
   "metadata": {},
   "outputs": [
    {
     "data": {
      "text/plain": [
       "'50'"
      ]
     },
     "execution_count": 63,
     "metadata": {},
     "output_type": "execute_result"
    }
   ],
   "source": [
    "str(myInteger) # int degerini string'e cevirme islemi"
   ]
  },
  {
   "cell_type": "code",
   "execution_count": 64,
   "id": "f932db4a",
   "metadata": {},
   "outputs": [],
   "source": [
    "myString = \"40\" # 40 degerinde bir string degiskeni"
   ]
  },
  {
   "cell_type": "code",
   "execution_count": 66,
   "id": "62c84926",
   "metadata": {},
   "outputs": [
    {
     "data": {
      "text/plain": [
       "40"
      ]
     },
     "execution_count": 66,
     "metadata": {},
     "output_type": "execute_result"
    }
   ],
   "source": [
    "int(myString)# String'i integer'a cevirme islemi"
   ]
  },
  {
   "cell_type": "code",
   "execution_count": 67,
   "id": "4b956db8",
   "metadata": {},
   "outputs": [
    {
     "data": {
      "text/plain": [
       "40.0"
      ]
     },
     "execution_count": 67,
     "metadata": {},
     "output_type": "execute_result"
    }
   ],
   "source": [
    "float(myString) # String degerini float'a cevirme"
   ]
  },
  {
   "cell_type": "code",
   "execution_count": 68,
   "id": "3f6d7a22",
   "metadata": {},
   "outputs": [
    {
     "data": {
      "text/plain": [
       "['10', '20', '30']"
      ]
     },
     "execution_count": 68,
     "metadata": {},
     "output_type": "execute_result"
    }
   ],
   "source": [
    " inputList"
   ]
  },
  {
   "cell_type": "code",
   "execution_count": 70,
   "id": "91b723c5",
   "metadata": {},
   "outputs": [
    {
     "data": {
      "text/plain": [
       "40"
      ]
     },
     "execution_count": 70,
     "metadata": {},
     "output_type": "execute_result"
    }
   ],
   "source": [
    "int(inputList[1]) * 2 #Listede bulunan 1. index'teki elemani integer'a cevir ve 2 ile carp"
   ]
  },
  {
   "cell_type": "code",
   "execution_count": 71,
   "id": "f5047839",
   "metadata": {},
   "outputs": [],
   "source": [
    "# Ayni anda birden fazla veri tipini listeye alma"
   ]
  },
  {
   "cell_type": "code",
   "execution_count": 72,
   "id": "4f7de829",
   "metadata": {},
   "outputs": [],
   "source": [
    "mixedList = [\"baris\",100,3.14]"
   ]
  },
  {
   "cell_type": "code",
   "execution_count": 73,
   "id": "bb3f954f",
   "metadata": {},
   "outputs": [
    {
     "data": {
      "text/plain": [
       "list"
      ]
     },
     "execution_count": 73,
     "metadata": {},
     "output_type": "execute_result"
    }
   ],
   "source": [
    "type(mixedList)"
   ]
  },
  {
   "cell_type": "code",
   "execution_count": 74,
   "id": "758c3b66",
   "metadata": {},
   "outputs": [],
   "source": [
    "# Listeleri toplama"
   ]
  },
  {
   "cell_type": "code",
   "execution_count": 76,
   "id": "aa83fc7b",
   "metadata": {},
   "outputs": [],
   "source": [
    "list1 = [10,20,30]\n",
    "list2 = [40,50,60]"
   ]
  },
  {
   "cell_type": "code",
   "execution_count": 77,
   "id": "17ac2656",
   "metadata": {},
   "outputs": [
    {
     "data": {
      "text/plain": [
       "[10, 20, 30, 40, 50, 60]"
      ]
     },
     "execution_count": 77,
     "metadata": {},
     "output_type": "execute_result"
    }
   ],
   "source": [
    "list1 + list2 # Listeler toplanirsa elemanlar yan yana koyulup yeni bir liste olusturulur"
   ]
  },
  {
   "cell_type": "code",
   "execution_count": 78,
   "id": "3243fd3e",
   "metadata": {},
   "outputs": [
    {
     "data": {
      "text/plain": [
       "['baris', 100, 3.14]"
      ]
     },
     "execution_count": 78,
     "metadata": {},
     "output_type": "execute_result"
    }
   ],
   "source": [
    "mixedList"
   ]
  },
  {
   "cell_type": "code",
   "execution_count": 79,
   "id": "06a0d0c0",
   "metadata": {},
   "outputs": [],
   "source": [
    "#nestedList ic ice gecmis listeler"
   ]
  },
  {
   "cell_type": "code",
   "execution_count": 81,
   "id": "16351b86",
   "metadata": {},
   "outputs": [],
   "source": [
    "myNestedList = [10,20,3.14,\"baris\",[1,2,3]] #Bir listenin icerisinde farkli bir liste eleman olarak eklenebilir"
   ]
  },
  {
   "cell_type": "code",
   "execution_count": 82,
   "id": "941594e2",
   "metadata": {},
   "outputs": [
    {
     "data": {
      "text/plain": [
       "[10, 20, 3.14, 'baris', [1, 2, 3]]"
      ]
     },
     "execution_count": 82,
     "metadata": {},
     "output_type": "execute_result"
    }
   ],
   "source": [
    "myNestedList"
   ]
  },
  {
   "cell_type": "code",
   "execution_count": 83,
   "id": "7d388a63",
   "metadata": {},
   "outputs": [],
   "source": [
    "# Alistirma: Liste icerisine eklenen diger liste elemaninin icerisinde bulunan 2 elemanini aldirma"
   ]
  },
  {
   "cell_type": "code",
   "execution_count": 91,
   "id": "c41b3284",
   "metadata": {},
   "outputs": [],
   "source": [
    "smallList = myNestedList[-1] #Liste elamanini farkli bir degiskene tanimladim"
   ]
  },
  {
   "cell_type": "code",
   "execution_count": 93,
   "id": "5efe02aa",
   "metadata": {},
   "outputs": [
    {
     "data": {
      "text/plain": [
       "2"
      ]
     },
     "execution_count": 93,
     "metadata": {},
     "output_type": "execute_result"
    }
   ],
   "source": [
    "smallList[1] # 2 degerine sahip olan elemanin indexini yazdirdim"
   ]
  },
  {
   "cell_type": "code",
   "execution_count": 94,
   "id": "69009424",
   "metadata": {},
   "outputs": [
    {
     "data": {
      "text/plain": [
       "2"
      ]
     },
     "execution_count": 94,
     "metadata": {},
     "output_type": "execute_result"
    }
   ],
   "source": [
    "myNestedList[4][1] # Kolay yolu"
   ]
  },
  {
   "cell_type": "code",
   "execution_count": 102,
   "id": "21c0f0b1",
   "metadata": {},
   "outputs": [],
   "source": [
    "lastList = [\"a\",\"b\",[\"c\",\"d\",\"e\"],\"f\"]"
   ]
  },
  {
   "cell_type": "code",
   "execution_count": 103,
   "id": "ee07d2c8",
   "metadata": {},
   "outputs": [
    {
     "data": {
      "text/plain": [
       "4"
      ]
     },
     "execution_count": 103,
     "metadata": {},
     "output_type": "execute_result"
    }
   ],
   "source": [
    "len(lasList) #Liste tek eleman sayildigi icin sonuc 4 cikiyor"
   ]
  },
  {
   "cell_type": "code",
   "execution_count": 107,
   "id": "fbd40b03",
   "metadata": {},
   "outputs": [
    {
     "data": {
      "text/plain": [
       "'d'"
      ]
     },
     "execution_count": 107,
     "metadata": {},
     "output_type": "execute_result"
    }
   ],
   "source": [
    "lastList[2][1] # Eleman olarak eklenen listede bulunan d degerini cekme"
   ]
  },
  {
   "cell_type": "code",
   "execution_count": 108,
   "id": "67fde2e1",
   "metadata": {},
   "outputs": [],
   "source": [
    "firstList = [10,20,30,40,50,60,70]"
   ]
  },
  {
   "cell_type": "code",
   "execution_count": 109,
   "id": "7084ed02",
   "metadata": {},
   "outputs": [
    {
     "data": {
      "text/plain": [
       "[30, 40, 50, 60, 70]"
      ]
     },
     "execution_count": 109,
     "metadata": {},
     "output_type": "execute_result"
    }
   ],
   "source": [
    "firstList[2::] #String'de bulunan slicing yapisi ayni sekilde calisiyor"
   ]
  },
  {
   "cell_type": "code",
   "execution_count": null,
   "id": "181866e1",
   "metadata": {},
   "outputs": [],
   "source": []
  }
 ],
 "metadata": {
  "kernelspec": {
   "display_name": "Python 3 (ipykernel)",
   "language": "python",
   "name": "python3"
  },
  "language_info": {
   "codemirror_mode": {
    "name": "ipython",
    "version": 3
   },
   "file_extension": ".py",
   "mimetype": "text/x-python",
   "name": "python",
   "nbconvert_exporter": "python",
   "pygments_lexer": "ipython3",
   "version": "3.10.9"
  }
 },
 "nbformat": 4,
 "nbformat_minor": 5
}
