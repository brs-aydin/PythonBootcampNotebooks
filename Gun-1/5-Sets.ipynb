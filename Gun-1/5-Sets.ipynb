{
 "cells": [
  {
   "cell_type": "code",
   "execution_count": 1,
   "id": "91c5832e",
   "metadata": {},
   "outputs": [],
   "source": [
    "#unique elements, unordered"
   ]
  },
  {
   "cell_type": "code",
   "execution_count": 2,
   "id": "00304d01",
   "metadata": {},
   "outputs": [],
   "source": [
    "myList = [10,20,30,10,20,40,10,20,40]"
   ]
  },
  {
   "cell_type": "code",
   "execution_count": 3,
   "id": "3315cb51",
   "metadata": {},
   "outputs": [
    {
     "data": {
      "text/plain": [
       "9"
      ]
     },
     "execution_count": 3,
     "metadata": {},
     "output_type": "execute_result"
    }
   ],
   "source": [
    "len(myList)"
   ]
  },
  {
   "cell_type": "code",
   "execution_count": 4,
   "id": "4b679f14",
   "metadata": {},
   "outputs": [
    {
     "data": {
      "text/plain": [
       "[10, 20, 30, 10, 20, 40, 10, 20, 40]"
      ]
     },
     "execution_count": 4,
     "metadata": {},
     "output_type": "execute_result"
    }
   ],
   "source": [
    "myList"
   ]
  },
  {
   "cell_type": "code",
   "execution_count": 5,
   "id": "2a68f109",
   "metadata": {},
   "outputs": [],
   "source": [
    "mySet = set(myList)"
   ]
  },
  {
   "cell_type": "code",
   "execution_count": 6,
   "id": "b8511493",
   "metadata": {},
   "outputs": [
    {
     "data": {
      "text/plain": [
       "{10, 20, 30, 40}"
      ]
     },
     "execution_count": 6,
     "metadata": {},
     "output_type": "execute_result"
    }
   ],
   "source": [
    "mySet"
   ]
  },
  {
   "cell_type": "code",
   "execution_count": 7,
   "id": "b6c1d4b9",
   "metadata": {},
   "outputs": [],
   "source": [
    "# Set içerisinde birden fazla ayni degere sahip eleman olamaz"
   ]
  },
  {
   "cell_type": "code",
   "execution_count": 8,
   "id": "7b9d3da5",
   "metadata": {},
   "outputs": [],
   "source": [
    "mySet = {10,20,30,10,10,20,40,10,20,40}"
   ]
  },
  {
   "cell_type": "code",
   "execution_count": 9,
   "id": "b5747076",
   "metadata": {},
   "outputs": [
    {
     "data": {
      "text/plain": [
       "{10, 20, 30, 40}"
      ]
     },
     "execution_count": 9,
     "metadata": {},
     "output_type": "execute_result"
    }
   ],
   "source": [
    "mySet"
   ]
  },
  {
   "cell_type": "code",
   "execution_count": 10,
   "id": "49b921bb",
   "metadata": {},
   "outputs": [],
   "source": [
    "mySet.add(10)"
   ]
  },
  {
   "cell_type": "code",
   "execution_count": 11,
   "id": "64ae04bb",
   "metadata": {},
   "outputs": [],
   "source": [
    "mySet.add(50)"
   ]
  },
  {
   "cell_type": "code",
   "execution_count": 12,
   "id": "dbf3a137",
   "metadata": {},
   "outputs": [
    {
     "data": {
      "text/plain": [
       "{10, 20, 30, 40, 50}"
      ]
     },
     "execution_count": 12,
     "metadata": {},
     "output_type": "execute_result"
    }
   ],
   "source": [
    "mySet"
   ]
  },
  {
   "cell_type": "code",
   "execution_count": 13,
   "id": "689fa5f9",
   "metadata": {},
   "outputs": [],
   "source": [
    "# Not: Set index mantigiyla calismaz"
   ]
  },
  {
   "cell_type": "code",
   "execution_count": 14,
   "id": "655753a0",
   "metadata": {},
   "outputs": [],
   "source": [
    "mySet2 = {30,40,50,60,70}"
   ]
  },
  {
   "cell_type": "code",
   "execution_count": 15,
   "id": "f3f576c1",
   "metadata": {},
   "outputs": [
    {
     "data": {
      "text/plain": [
       "{10, 20, 30, 40, 50}"
      ]
     },
     "execution_count": 15,
     "metadata": {},
     "output_type": "execute_result"
    }
   ],
   "source": [
    "mySet"
   ]
  },
  {
   "cell_type": "code",
   "execution_count": 16,
   "id": "178ef3c5",
   "metadata": {},
   "outputs": [
    {
     "data": {
      "text/plain": [
       "{30, 40, 50, 60, 70}"
      ]
     },
     "execution_count": 16,
     "metadata": {},
     "output_type": "execute_result"
    }
   ],
   "source": [
    "mySet2"
   ]
  },
  {
   "cell_type": "code",
   "execution_count": 17,
   "id": "c4bf4779",
   "metadata": {},
   "outputs": [
    {
     "data": {
      "text/plain": [
       "{10, 20, 30, 40, 50, 60, 70}"
      ]
     },
     "execution_count": 17,
     "metadata": {},
     "output_type": "execute_result"
    }
   ],
   "source": [
    "mySet.union(mySet2) # union -> birlestirme"
   ]
  },
  {
   "cell_type": "code",
   "execution_count": 18,
   "id": "16190478",
   "metadata": {},
   "outputs": [
    {
     "data": {
      "text/plain": [
       "{30, 40, 50}"
      ]
     },
     "execution_count": 18,
     "metadata": {},
     "output_type": "execute_result"
    }
   ],
   "source": [
    "mySet.intersection(mySet2) #intersection -> kesisimleri"
   ]
  },
  {
   "cell_type": "code",
   "execution_count": 21,
   "id": "bb1b64ad",
   "metadata": {},
   "outputs": [],
   "source": [
    "countryList = [\"de\",\"fr\",\"tr\",\"fr\",\"tr\",\"tr\",\"de\",\"nl\",\"de\",\"tr\"] #Eger karisik bir listede toplam kac farkli ulkeye satis\n",
    "#yaptigimizi ogrenmek istersek set kullanilabilir"
   ]
  },
  {
   "cell_type": "code",
   "execution_count": 22,
   "id": "868740be",
   "metadata": {},
   "outputs": [
    {
     "data": {
      "text/plain": [
       "4"
      ]
     },
     "execution_count": 22,
     "metadata": {},
     "output_type": "execute_result"
    }
   ],
   "source": [
    "len(set(countryList))"
   ]
  },
  {
   "cell_type": "code",
   "execution_count": 23,
   "id": "d20785c2",
   "metadata": {},
   "outputs": [],
   "source": [
    "emptyList = [] #Kolaylikla bos liste olusturulabilir ve icersinde append ile eleman eklenebilir"
   ]
  },
  {
   "cell_type": "code",
   "execution_count": 24,
   "id": "1a0033c0",
   "metadata": {},
   "outputs": [],
   "source": [
    "emptyList.append(10)\n",
    "emptyList.append(20)\n",
    "emptyList.append(30)"
   ]
  },
  {
   "cell_type": "code",
   "execution_count": 25,
   "id": "0a9a670a",
   "metadata": {},
   "outputs": [
    {
     "data": {
      "text/plain": [
       "[10, 20, 30]"
      ]
     },
     "execution_count": 25,
     "metadata": {},
     "output_type": "execute_result"
    }
   ],
   "source": [
    "emptyList"
   ]
  },
  {
   "cell_type": "code",
   "execution_count": 26,
   "id": "7d5bb279",
   "metadata": {},
   "outputs": [],
   "source": [
    "#fakat set listesi olustururken sozluk syntax'i ile aynı oldugu icin derleyici veri turunu dict olarak alacaktir"
   ]
  },
  {
   "cell_type": "code",
   "execution_count": 27,
   "id": "f522cde1",
   "metadata": {},
   "outputs": [],
   "source": [
    "emptySet = {}"
   ]
  },
  {
   "cell_type": "code",
   "execution_count": 28,
   "id": "dc4d2d2a",
   "metadata": {},
   "outputs": [
    {
     "data": {
      "text/plain": [
       "dict"
      ]
     },
     "execution_count": 28,
     "metadata": {},
     "output_type": "execute_result"
    }
   ],
   "source": [
    "type(emptySet)"
   ]
  },
  {
   "cell_type": "code",
   "execution_count": 29,
   "id": "874e21db",
   "metadata": {},
   "outputs": [],
   "source": [
    "#Bu durumu cozmek icin degiskeni set'e esitleyecegiz"
   ]
  },
  {
   "cell_type": "code",
   "execution_count": 30,
   "id": "bd54e331",
   "metadata": {},
   "outputs": [],
   "source": [
    "emptySet = set()"
   ]
  },
  {
   "cell_type": "code",
   "execution_count": 31,
   "id": "e0158366",
   "metadata": {},
   "outputs": [
    {
     "data": {
      "text/plain": [
       "set"
      ]
     },
     "execution_count": 31,
     "metadata": {},
     "output_type": "execute_result"
    }
   ],
   "source": [
    "type(emptySet)"
   ]
  },
  {
   "cell_type": "code",
   "execution_count": 34,
   "id": "a500216f",
   "metadata": {},
   "outputs": [],
   "source": [
    "emptySet.add(10)\n",
    "emptySet.add(10)\n",
    "emptySet.add(10)\n",
    "emptySet.add(10)\n",
    "emptySet.add(20)\n",
    "emptySet.add(30)\n",
    "\n"
   ]
  },
  {
   "cell_type": "code",
   "execution_count": 35,
   "id": "ce507eaa",
   "metadata": {},
   "outputs": [
    {
     "data": {
      "text/plain": [
       "{10, 20, 30}"
      ]
     },
     "execution_count": 35,
     "metadata": {},
     "output_type": "execute_result"
    }
   ],
   "source": [
    "emptySet"
   ]
  },
  {
   "cell_type": "code",
   "execution_count": null,
   "id": "5ba2fb1c",
   "metadata": {},
   "outputs": [],
   "source": []
  }
 ],
 "metadata": {
  "kernelspec": {
   "display_name": "Python 3 (ipykernel)",
   "language": "python",
   "name": "python3"
  },
  "language_info": {
   "codemirror_mode": {
    "name": "ipython",
    "version": 3
   },
   "file_extension": ".py",
   "mimetype": "text/x-python",
   "name": "python",
   "nbconvert_exporter": "python",
   "pygments_lexer": "ipython3",
   "version": "3.10.9"
  }
 },
 "nbformat": 4,
 "nbformat_minor": 5
}
