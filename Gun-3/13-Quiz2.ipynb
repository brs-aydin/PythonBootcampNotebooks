{
 "cells": [
  {
   "cell_type": "code",
   "execution_count": 1,
   "metadata": {},
   "outputs": [],
   "source": [
    "# 1) Aşağıdaki kodun çıktısı ne olacaktır?"
   ]
  },
  {
   "cell_type": "code",
   "execution_count": 2,
   "metadata": {},
   "outputs": [],
   "source": [
    "x = 5\n",
    "y = 3\n",
    "z = 6"
   ]
  },
  {
   "cell_type": "markdown",
   "metadata": {},
   "source": [
    "x > y and z > x"
   ]
  },
  {
   "cell_type": "code",
   "execution_count": 3,
   "metadata": {},
   "outputs": [],
   "source": [
    "true"
   ]
  },
  {
   "cell_type": "code",
   "execution_count": 4,
   "metadata": {},
   "outputs": [],
   "source": [
    "# 2) Aynı değerlerle kod şu şekilde değiştilirse çıktı ne olacaktır?"
   ]
  },
  {
   "cell_type": "markdown",
   "metadata": {},
   "source": [
    "x < y or z > y"
   ]
  },
  {
   "cell_type": "code",
   "execution_count": 5,
   "metadata": {},
   "outputs": [],
   "source": [
    "true"
   ]
  },
  {
   "cell_type": "code",
   "execution_count": 6,
   "metadata": {},
   "outputs": [],
   "source": [
    "# 3) Aşağıdaki kodun çıktısı ne olacaktır?"
   ]
  },
  {
   "cell_type": "code",
   "execution_count": 7,
   "metadata": {},
   "outputs": [
    {
     "data": {
      "text/plain": [
       "'\\nyas = 20\\n\\nif yas < 18:\\n    print(\"18 yaşından küçüksünüz\")\\nelif yas >= 18 and yas < 30:\\n    print(\"18 ile 30 yaş arasında bir gençsiniz\")\\nelif yas >= 30 and yas < 40:\\n    print(\"30 ve 40 arasına gelmişsiniz\")\\nelse:\\n    print(\"40 yaşından daha büyüksünüz\")\\n'"
      ]
     },
     "execution_count": 7,
     "metadata": {},
     "output_type": "execute_result"
    }
   ],
   "source": [
    "'''\n",
    "yas = 20\n",
    "\n",
    "if yas < 18:\n",
    "    print(\"18 yaşından küçüksünüz\")\n",
    "elif yas >= 18 and yas < 30:\n",
    "    print(\"18 ile 30 yaş arasında bir gençsiniz\")\n",
    "elif yas >= 30 and yas < 40:\n",
    "    print(\"30 ve 40 arasına gelmişsiniz\")\n",
    "else:\n",
    "    print(\"40 yaşından daha büyüksünüz\")\n",
    "'''"
   ]
  },
  {
   "cell_type": "code",
   "execution_count": 8,
   "metadata": {},
   "outputs": [],
   "source": [
    "18 ile 30 yaş arasında bir gençsiniz"
   ]
  },
  {
   "cell_type": "code",
   "execution_count": 9,
   "metadata": {},
   "outputs": [],
   "source": [
    "#4) Aşağıdaki sözlükte, değerler içinde c harfinin geçip geçmediğini gösteren bir if koşulu yazınız"
   ]
  },
  {
   "cell_type": "code",
   "execution_count": 1,
   "metadata": {},
   "outputs": [],
   "source": [
    "my_dictionary = {\"k1\":10,\"k2k\":\"a\",\"k32\":30,\"k4\":\"c\"}"
   ]
  },
  {
   "cell_type": "code",
   "execution_count": 32,
   "metadata": {},
   "outputs": [
    {
     "name": "stdout",
     "output_type": "stream",
     "text": [
      "c var\n"
     ]
    }
   ],
   "source": [
    "for x in my_dictionary.values():\n",
    "    if x == \"c\":\n",
    "        print(\"c var\")\n",
    "        break\n"
   ]
  },
  {
   "cell_type": "code",
   "execution_count": 12,
   "metadata": {},
   "outputs": [],
   "source": [
    "# cevap"
   ]
  },
  {
   "cell_type": "code",
   "execution_count": 13,
   "metadata": {},
   "outputs": [],
   "source": [
    "#5) Aşağıdaki sözlükte, anahtarlar içinde a harfinin geçip geçmediğini gösteren bir if koşulu yazınız"
   ]
  },
  {
   "cell_type": "code",
   "execution_count": 37,
   "metadata": {},
   "outputs": [],
   "source": [
    "my_other_dictionary = {\"b\":203,\"c\":\"a\",\"a\":400,\"d\":\"f\"}"
   ]
  },
  {
   "cell_type": "code",
   "execution_count": 38,
   "metadata": {},
   "outputs": [
    {
     "name": "stdout",
     "output_type": "stream",
     "text": [
      "a var\n"
     ]
    }
   ],
   "source": [
    "for y in my_other_dictionary.keys():\n",
    "    if y == \"a\":\n",
    "        print(\"a var\")\n",
    "        break"
   ]
  },
  {
   "cell_type": "code",
   "execution_count": 17,
   "metadata": {},
   "outputs": [],
   "source": [
    "#6) Aşağıdaki listedeki sayılardan sadece çift sayı olanları yazdıran bir kod yazınız."
   ]
  },
  {
   "cell_type": "code",
   "execution_count": 41,
   "metadata": {},
   "outputs": [],
   "source": [
    "my_numbers = [1,2,3,4,5,6,19,20,32,21,20,1111,23,24]"
   ]
  },
  {
   "cell_type": "code",
   "execution_count": 53,
   "metadata": {},
   "outputs": [
    {
     "name": "stdout",
     "output_type": "stream",
     "text": [
      "2\n",
      "4\n",
      "6\n",
      "20\n",
      "32\n",
      "20\n",
      "24\n"
     ]
    }
   ],
   "source": [
    "x = 0\n",
    "for x in my_numbers:\n",
    "    if x%2 == 0:\n",
    "        print(x)"
   ]
  },
  {
   "cell_type": "code",
   "execution_count": 22,
   "metadata": {},
   "outputs": [],
   "source": [
    "#7) Aşağıdaki listedeki sayılar bir dairenin yarı çapını vermektedir. "
   ]
  },
  {
   "cell_type": "code",
   "execution_count": 23,
   "metadata": {},
   "outputs": [],
   "source": [
    "#Tüm dairelerin çevresini içeren başka yeni bir liste oluşturunuz. (İpucu: 2 * pi * r)  Pi 3.14 alınabilir."
   ]
  },
  {
   "cell_type": "code",
   "execution_count": 56,
   "metadata": {},
   "outputs": [],
   "source": [
    "r_list = [3,2,5,8,4,6,9,12]"
   ]
  },
  {
   "cell_type": "code",
   "execution_count": 61,
   "metadata": {},
   "outputs": [
    {
     "name": "stdout",
     "output_type": "stream",
     "text": [
      "[18.84, 12.56, 31.400000000000002, 50.24, 25.12, 37.68, 56.52, 75.36]\n"
     ]
    }
   ],
   "source": [
    "pi = 3.14\n",
    "cevre_list = []\n",
    "for x in r_list:\n",
    "    cevre_list.append(2 * pi * x)\n",
    "print(cevre_list)"
   ]
  },
  {
   "cell_type": "code",
   "execution_count": 28,
   "metadata": {},
   "outputs": [],
   "source": [
    "#8) Aşağıdaki listede isim - yaş eşleşmelerinin bulunduğu yapılar mevcuttur."
   ]
  },
  {
   "cell_type": "code",
   "execution_count": 29,
   "metadata": {},
   "outputs": [],
   "source": [
    "# Sadece yaşların olduğu yeni ve ayrı bir liste oluşturunuz."
   ]
  },
  {
   "cell_type": "code",
   "execution_count": 62,
   "metadata": {},
   "outputs": [],
   "source": [
    "age_name_list = [(\"Ahmet\",30),(\"Ayse\",24),(\"Mehmet\",40),(\"Fatma\",29)]"
   ]
  },
  {
   "cell_type": "code",
   "execution_count": 64,
   "metadata": {},
   "outputs": [
    {
     "data": {
      "text/plain": [
       "[30, 24, 40, 29]"
      ]
     },
     "execution_count": 64,
     "metadata": {},
     "output_type": "execute_result"
    }
   ],
   "source": [
    "yas_list = []\n",
    "for (ad,yas) in  age_name_list:\n",
    "    yas_list.append(yas)\n",
    "yas_list"
   ]
  },
  {
   "cell_type": "code",
   "execution_count": 34,
   "metadata": {},
   "outputs": [],
   "source": [
    "#9) Aşağıdaki müzik gruplarından birini rastgele yazdıran bir kod yazınız"
   ]
  },
  {
   "cell_type": "code",
   "execution_count": 65,
   "metadata": {},
   "outputs": [],
   "source": [
    "metal_list = [\"Metallica\",\"Iron Maiden\",\"Dream Theater\",\"Megadeth\",\"AC/DC\"]"
   ]
  },
  {
   "cell_type": "code",
   "execution_count": 78,
   "metadata": {},
   "outputs": [],
   "source": [
    "from random import randint"
   ]
  },
  {
   "cell_type": "code",
   "execution_count": 81,
   "metadata": {},
   "outputs": [
    {
     "data": {
      "text/plain": [
       "'Dream Theater'"
      ]
     },
     "execution_count": 81,
     "metadata": {},
     "output_type": "execute_result"
    }
   ],
   "source": [
    "metal_list[randint(0,len(metal_list)-1)]"
   ]
  },
  {
   "cell_type": "code",
   "execution_count": 83,
   "metadata": {},
   "outputs": [],
   "source": [
    "#10) Aşağıdaki kodun çıktısı ne olacaktır?\n",
    "[num % 2 == 0 for num in number_list]"
   ]
  },
  {
   "cell_type": "code",
   "execution_count": 41,
   "metadata": {},
   "outputs": [],
   "source": [
    "False, False, True, False, True, True, False, True"
   ]
  },
  {
   "cell_type": "code",
   "execution_count": null,
   "metadata": {},
   "outputs": [],
   "source": []
  }
 ],
 "metadata": {
  "kernelspec": {
   "display_name": "Python 3 (ipykernel)",
   "language": "python",
   "name": "python3"
  },
  "language_info": {
   "codemirror_mode": {
    "name": "ipython",
    "version": 3
   },
   "file_extension": ".py",
   "mimetype": "text/x-python",
   "name": "python",
   "nbconvert_exporter": "python",
   "pygments_lexer": "ipython3",
   "version": "3.10.9"
  }
 },
 "nbformat": 4,
 "nbformat_minor": 4
}
