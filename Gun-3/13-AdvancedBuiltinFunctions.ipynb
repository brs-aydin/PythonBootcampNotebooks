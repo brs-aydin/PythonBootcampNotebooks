{
 "cells": [
  {
   "cell_type": "code",
   "execution_count": 1,
   "id": "89697de8",
   "metadata": {},
   "outputs": [],
   "source": [
    "my_list = [10,20,30,40,50,60,70]"
   ]
  },
  {
   "cell_type": "code",
   "execution_count": 3,
   "id": "1e4a85a1",
   "metadata": {},
   "outputs": [
    {
     "name": "stdout",
     "output_type": "stream",
     "text": [
      "5.0\n",
      "10.0\n",
      "15.0\n",
      "20.0\n",
      "25.0\n",
      "30.0\n",
      "35.0\n"
     ]
    }
   ],
   "source": [
    "for num in my_list:\n",
    "    print(num / 2)"
   ]
  },
  {
   "cell_type": "code",
   "execution_count": 4,
   "id": "7a944bd6",
   "metadata": {},
   "outputs": [],
   "source": [
    "#range"
   ]
  },
  {
   "cell_type": "code",
   "execution_count": 5,
   "id": "d993f4db",
   "metadata": {},
   "outputs": [
    {
     "data": {
      "text/plain": [
       "range(0, 50)"
      ]
     },
     "execution_count": 5,
     "metadata": {},
     "output_type": "execute_result"
    }
   ],
   "source": [
    "range(50)"
   ]
  },
  {
   "cell_type": "code",
   "execution_count": 7,
   "id": "03352afe",
   "metadata": {},
   "outputs": [
    {
     "data": {
      "text/plain": [
       "[0, 1, 2, 3, 4, 5, 6, 7, 8, 9]"
      ]
     },
     "execution_count": 7,
     "metadata": {},
     "output_type": "execute_result"
    }
   ],
   "source": [
    "list(range(10))"
   ]
  },
  {
   "cell_type": "code",
   "execution_count": 8,
   "id": "f02a1322",
   "metadata": {},
   "outputs": [
    {
     "name": "stdout",
     "output_type": "stream",
     "text": [
      "0\n",
      "2\n",
      "4\n",
      "6\n",
      "8\n",
      "10\n",
      "12\n",
      "14\n",
      "16\n",
      "18\n",
      "20\n",
      "22\n",
      "24\n",
      "26\n",
      "28\n",
      "30\n",
      "32\n",
      "34\n",
      "36\n",
      "38\n"
     ]
    }
   ],
   "source": [
    "for num in list(range(20)):\n",
    "    print(num * 2)"
   ]
  },
  {
   "cell_type": "code",
   "execution_count": 9,
   "id": "8b5340c3",
   "metadata": {},
   "outputs": [
    {
     "data": {
      "text/plain": [
       "[5, 6, 7, 8, 9, 10, 11, 12, 13, 14, 15, 16, 17, 18, 19, 20, 21, 22, 23, 24]"
      ]
     },
     "execution_count": 9,
     "metadata": {},
     "output_type": "execute_result"
    }
   ],
   "source": [
    "list(range(5,25))"
   ]
  },
  {
   "cell_type": "code",
   "execution_count": 10,
   "id": "54c32183",
   "metadata": {},
   "outputs": [
    {
     "data": {
      "text/plain": [
       "[5, 7, 9, 11, 13, 15, 17, 19, 21, 23]"
      ]
     },
     "execution_count": 10,
     "metadata": {},
     "output_type": "execute_result"
    }
   ],
   "source": [
    "list(range(5,25,2))"
   ]
  },
  {
   "cell_type": "code",
   "execution_count": 11,
   "id": "764b2014",
   "metadata": {},
   "outputs": [],
   "source": [
    "my_list = [20,30,40,50,60]"
   ]
  },
  {
   "cell_type": "code",
   "execution_count": 12,
   "id": "9e72be41",
   "metadata": {},
   "outputs": [
    {
     "name": "stdout",
     "output_type": "stream",
     "text": [
      "20\n",
      "30\n",
      "40\n",
      "50\n",
      "60\n"
     ]
    }
   ],
   "source": [
    "for num in my_list:\n",
    "    print(num)"
   ]
  },
  {
   "cell_type": "code",
   "execution_count": 15,
   "id": "c881feb8",
   "metadata": {},
   "outputs": [
    {
     "name": "stdout",
     "output_type": "stream",
     "text": [
      "20\n",
      "30\n",
      "40\n",
      "50\n",
      "60\n"
     ]
    }
   ],
   "source": [
    "for ix in range(len(my_list)):\n",
    "    print(my_list[ix])"
   ]
  },
  {
   "cell_type": "code",
   "execution_count": 16,
   "id": "602afe91",
   "metadata": {},
   "outputs": [],
   "source": [
    "#enumerate"
   ]
  },
  {
   "cell_type": "code",
   "execution_count": 17,
   "id": "80dc26e0",
   "metadata": {},
   "outputs": [
    {
     "name": "stdout",
     "output_type": "stream",
     "text": [
      "(0, 20)\n",
      "(1, 30)\n",
      "(2, 40)\n",
      "(3, 50)\n",
      "(4, 60)\n"
     ]
    }
   ],
   "source": [
    "for element in enumerate(my_list):\n",
    "    print(element)"
   ]
  },
  {
   "cell_type": "code",
   "execution_count": 19,
   "id": "bd11bd67",
   "metadata": {},
   "outputs": [
    {
     "name": "stdout",
     "output_type": "stream",
     "text": [
      "20\n",
      "30\n",
      "40\n",
      "50\n",
      "60\n"
     ]
    }
   ],
   "source": [
    "for (ix,value) in enumerate(my_list):\n",
    "    print(value)"
   ]
  },
  {
   "cell_type": "code",
   "execution_count": 20,
   "id": "9e8b606f",
   "metadata": {},
   "outputs": [],
   "source": [
    "#random"
   ]
  },
  {
   "cell_type": "code",
   "execution_count": 21,
   "id": "82c18099",
   "metadata": {},
   "outputs": [],
   "source": [
    "from random import randint"
   ]
  },
  {
   "cell_type": "code",
   "execution_count": 25,
   "id": "e9dca9b1",
   "metadata": {},
   "outputs": [
    {
     "data": {
      "text/plain": [
       "28"
      ]
     },
     "execution_count": 25,
     "metadata": {},
     "output_type": "execute_result"
    }
   ],
   "source": [
    "randint(0,100)"
   ]
  },
  {
   "cell_type": "code",
   "execution_count": 26,
   "id": "90748276",
   "metadata": {},
   "outputs": [],
   "source": [
    "from random import shuffle"
   ]
  },
  {
   "cell_type": "code",
   "execution_count": 27,
   "id": "93c57c29",
   "metadata": {},
   "outputs": [
    {
     "data": {
      "text/plain": [
       "[20, 30, 40, 50, 60]"
      ]
     },
     "execution_count": 27,
     "metadata": {},
     "output_type": "execute_result"
    }
   ],
   "source": [
    "my_list"
   ]
  },
  {
   "cell_type": "code",
   "execution_count": 28,
   "id": "0afaecc6",
   "metadata": {},
   "outputs": [],
   "source": [
    "shuffle(my_list)"
   ]
  },
  {
   "cell_type": "code",
   "execution_count": 29,
   "id": "b82912f6",
   "metadata": {},
   "outputs": [
    {
     "data": {
      "text/plain": [
       "[20, 40, 60, 30, 50]"
      ]
     },
     "execution_count": 29,
     "metadata": {},
     "output_type": "execute_result"
    }
   ],
   "source": [
    "my_list"
   ]
  },
  {
   "cell_type": "code",
   "execution_count": 41,
   "id": "45eed5ea",
   "metadata": {},
   "outputs": [],
   "source": [
    "my_list = [10,20,30,40,50,60,70]"
   ]
  },
  {
   "cell_type": "code",
   "execution_count": 62,
   "id": "52ae7400",
   "metadata": {},
   "outputs": [
    {
     "data": {
      "text/plain": [
       "4"
      ]
     },
     "execution_count": 62,
     "metadata": {},
     "output_type": "execute_result"
    }
   ],
   "source": [
    "randint(0,len(my_list)-1)\n"
   ]
  },
  {
   "cell_type": "code",
   "execution_count": 63,
   "id": "f2bc0fe9",
   "metadata": {},
   "outputs": [],
   "source": [
    "#zip"
   ]
  },
  {
   "cell_type": "code",
   "execution_count": 64,
   "id": "feb50e20",
   "metadata": {},
   "outputs": [],
   "source": [
    "food_list = [\"apple\",\"banana\",\"melon\"]"
   ]
  },
  {
   "cell_type": "code",
   "execution_count": 65,
   "id": "1e5eb89e",
   "metadata": {},
   "outputs": [],
   "source": [
    "calories_list = [100,150,200]"
   ]
  },
  {
   "cell_type": "code",
   "execution_count": 66,
   "id": "e0a44d79",
   "metadata": {},
   "outputs": [],
   "source": [
    "day_list = [\"monday\",\"tuesday\",\"wednesday\"]"
   ]
  },
  {
   "cell_type": "code",
   "execution_count": 71,
   "id": "cf6b2ef0",
   "metadata": {},
   "outputs": [],
   "source": [
    "zipped_list = list(zip(food_list,calories_list,day_list))"
   ]
  },
  {
   "cell_type": "code",
   "execution_count": 72,
   "id": "6089cb2e",
   "metadata": {},
   "outputs": [
    {
     "data": {
      "text/plain": [
       "list"
      ]
     },
     "execution_count": 72,
     "metadata": {},
     "output_type": "execute_result"
    }
   ],
   "source": [
    "type(zipped_list)"
   ]
  },
  {
   "cell_type": "code",
   "execution_count": 74,
   "id": "ee4751be",
   "metadata": {},
   "outputs": [
    {
     "data": {
      "text/plain": [
       "[('apple', 100, 'monday'),\n",
       " ('banana', 150, 'tuesday'),\n",
       " ('melon', 200, 'wednesday')]"
      ]
     },
     "execution_count": 74,
     "metadata": {},
     "output_type": "execute_result"
    }
   ],
   "source": [
    "zipped_list"
   ]
  },
  {
   "cell_type": "code",
   "execution_count": 77,
   "id": "e60787c8",
   "metadata": {},
   "outputs": [],
   "source": [
    "new_list = []\n",
    "my_string = \"metallica\"\n",
    "\n",
    "for element in my_string:\n",
    "    new_list.append(element)"
   ]
  },
  {
   "cell_type": "code",
   "execution_count": 78,
   "id": "9f454e2a",
   "metadata": {},
   "outputs": [
    {
     "data": {
      "text/plain": [
       "['m', 'e', 't', 'a', 'l', 'l', 'i', 'c', 'a']"
      ]
     },
     "execution_count": 78,
     "metadata": {},
     "output_type": "execute_result"
    }
   ],
   "source": [
    "new_list"
   ]
  },
  {
   "cell_type": "code",
   "execution_count": 79,
   "id": "881321e3",
   "metadata": {},
   "outputs": [],
   "source": [
    "#list comprehension"
   ]
  },
  {
   "cell_type": "code",
   "execution_count": 80,
   "id": "f25f7ac3",
   "metadata": {},
   "outputs": [],
   "source": [
    "new_list = [element for element in my_string]"
   ]
  },
  {
   "cell_type": "code",
   "execution_count": 81,
   "id": "35f9e528",
   "metadata": {},
   "outputs": [
    {
     "data": {
      "text/plain": [
       "['m', 'e', 't', 'a', 'l', 'l', 'i', 'c', 'a']"
      ]
     },
     "execution_count": 81,
     "metadata": {},
     "output_type": "execute_result"
    }
   ],
   "source": [
    "new_list"
   ]
  },
  {
   "cell_type": "code",
   "execution_count": 82,
   "id": "33284849",
   "metadata": {},
   "outputs": [],
   "source": [
    "number_list = [10,20,30,40,50,60]"
   ]
  },
  {
   "cell_type": "code",
   "execution_count": 83,
   "id": "39cea9c7",
   "metadata": {},
   "outputs": [],
   "source": [
    "new_number_list = [num/2 for num in number_list]"
   ]
  },
  {
   "cell_type": "code",
   "execution_count": 84,
   "id": "dc6b02cb",
   "metadata": {},
   "outputs": [
    {
     "data": {
      "text/plain": [
       "[5.0, 10.0, 15.0, 20.0, 25.0, 30.0]"
      ]
     },
     "execution_count": 84,
     "metadata": {},
     "output_type": "execute_result"
    }
   ],
   "source": [
    "new_number_list"
   ]
  },
  {
   "cell_type": "code",
   "execution_count": null,
   "id": "4404ebd4",
   "metadata": {},
   "outputs": [],
   "source": []
  }
 ],
 "metadata": {
  "kernelspec": {
   "display_name": "Python 3 (ipykernel)",
   "language": "python",
   "name": "python3"
  },
  "language_info": {
   "codemirror_mode": {
    "name": "ipython",
    "version": 3
   },
   "file_extension": ".py",
   "mimetype": "text/x-python",
   "name": "python",
   "nbconvert_exporter": "python",
   "pygments_lexer": "ipython3",
   "version": "3.10.9"
  }
 },
 "nbformat": 4,
 "nbformat_minor": 5
}
