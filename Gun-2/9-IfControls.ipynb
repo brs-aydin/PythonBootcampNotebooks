{
 "cells": [
  {
   "cell_type": "code",
   "execution_count": 1,
   "id": "4401e878",
   "metadata": {},
   "outputs": [],
   "source": [
    "x = 5\n",
    "y = 2"
   ]
  },
  {
   "cell_type": "code",
   "execution_count": 2,
   "id": "4f39219c",
   "metadata": {},
   "outputs": [
    {
     "data": {
      "text/plain": [
       "True"
      ]
     },
     "execution_count": 2,
     "metadata": {},
     "output_type": "execute_result"
    }
   ],
   "source": [
    "x > y"
   ]
  },
  {
   "cell_type": "code",
   "execution_count": 3,
   "id": "c40de45a",
   "metadata": {},
   "outputs": [
    {
     "data": {
      "text/plain": [
       "False"
      ]
     },
     "execution_count": 3,
     "metadata": {},
     "output_type": "execute_result"
    }
   ],
   "source": [
    "x < y"
   ]
  },
  {
   "cell_type": "code",
   "execution_count": 4,
   "id": "5e8dc64b",
   "metadata": {},
   "outputs": [
    {
     "data": {
      "text/plain": [
       "False"
      ]
     },
     "execution_count": 4,
     "metadata": {},
     "output_type": "execute_result"
    }
   ],
   "source": [
    "y > x"
   ]
  },
  {
   "cell_type": "code",
   "execution_count": 5,
   "id": "4630be38",
   "metadata": {},
   "outputs": [],
   "source": [
    "y = 5"
   ]
  },
  {
   "cell_type": "code",
   "execution_count": 6,
   "id": "5207e20a",
   "metadata": {},
   "outputs": [
    {
     "data": {
      "text/plain": [
       "True"
      ]
     },
     "execution_count": 6,
     "metadata": {},
     "output_type": "execute_result"
    }
   ],
   "source": [
    "x >= 5"
   ]
  },
  {
   "cell_type": "code",
   "execution_count": 8,
   "id": "280a3e01",
   "metadata": {},
   "outputs": [
    {
     "data": {
      "text/plain": [
       "True"
      ]
     },
     "execution_count": 8,
     "metadata": {},
     "output_type": "execute_result"
    }
   ],
   "source": [
    "x >= 5"
   ]
  },
  {
   "cell_type": "code",
   "execution_count": 9,
   "id": "7668ee00",
   "metadata": {},
   "outputs": [
    {
     "data": {
      "text/plain": [
       "True"
      ]
     },
     "execution_count": 9,
     "metadata": {},
     "output_type": "execute_result"
    }
   ],
   "source": [
    "x <= 5"
   ]
  },
  {
   "cell_type": "code",
   "execution_count": 10,
   "id": "28b9bb7d",
   "metadata": {},
   "outputs": [
    {
     "data": {
      "text/plain": [
       "True"
      ]
     },
     "execution_count": 10,
     "metadata": {},
     "output_type": "execute_result"
    }
   ],
   "source": [
    "x >= 5.0"
   ]
  },
  {
   "cell_type": "code",
   "execution_count": 11,
   "id": "e63a82cd",
   "metadata": {},
   "outputs": [],
   "source": [
    "x = 10\n",
    "y = 8"
   ]
  },
  {
   "cell_type": "code",
   "execution_count": 12,
   "id": "736bb128",
   "metadata": {},
   "outputs": [],
   "source": [
    "x = y"
   ]
  },
  {
   "cell_type": "code",
   "execution_count": 13,
   "id": "97d1a4fe",
   "metadata": {},
   "outputs": [],
   "source": [
    "x = 10\n",
    "y = 8"
   ]
  },
  {
   "cell_type": "code",
   "execution_count": 14,
   "id": "ffad03fa",
   "metadata": {},
   "outputs": [
    {
     "data": {
      "text/plain": [
       "False"
      ]
     },
     "execution_count": 14,
     "metadata": {},
     "output_type": "execute_result"
    }
   ],
   "source": [
    "x == y"
   ]
  },
  {
   "cell_type": "code",
   "execution_count": 15,
   "id": "b17f87f3",
   "metadata": {
    "scrolled": true
   },
   "outputs": [
    {
     "data": {
      "text/plain": [
       "True"
      ]
     },
     "execution_count": 15,
     "metadata": {},
     "output_type": "execute_result"
    }
   ],
   "source": [
    "x != y"
   ]
  },
  {
   "cell_type": "code",
   "execution_count": 16,
   "id": "08fc0a03",
   "metadata": {},
   "outputs": [
    {
     "data": {
      "text/plain": [
       "True"
      ]
     },
     "execution_count": 16,
     "metadata": {},
     "output_type": "execute_result"
    }
   ],
   "source": [
    "2 > 1 and 3 > 2"
   ]
  },
  {
   "cell_type": "code",
   "execution_count": 17,
   "id": "4cc495da",
   "metadata": {
    "scrolled": true
   },
   "outputs": [
    {
     "data": {
      "text/plain": [
       "False"
      ]
     },
     "execution_count": 17,
     "metadata": {},
     "output_type": "execute_result"
    }
   ],
   "source": [
    "2 > 1 and 3 < 2"
   ]
  },
  {
   "cell_type": "code",
   "execution_count": 18,
   "id": "92670f75",
   "metadata": {},
   "outputs": [
    {
     "data": {
      "text/plain": [
       "True"
      ]
     },
     "execution_count": 18,
     "metadata": {},
     "output_type": "execute_result"
    }
   ],
   "source": [
    "True and True"
   ]
  },
  {
   "cell_type": "code",
   "execution_count": 19,
   "id": "42c02110",
   "metadata": {},
   "outputs": [
    {
     "data": {
      "text/plain": [
       "False"
      ]
     },
     "execution_count": 19,
     "metadata": {},
     "output_type": "execute_result"
    }
   ],
   "source": [
    "True and False"
   ]
  },
  {
   "cell_type": "code",
   "execution_count": 20,
   "id": "b848dadd",
   "metadata": {},
   "outputs": [
    {
     "data": {
      "text/plain": [
       "False"
      ]
     },
     "execution_count": 20,
     "metadata": {},
     "output_type": "execute_result"
    }
   ],
   "source": [
    "False and False"
   ]
  },
  {
   "cell_type": "code",
   "execution_count": 21,
   "id": "4080c6d1",
   "metadata": {},
   "outputs": [
    {
     "data": {
      "text/plain": [
       "True"
      ]
     },
     "execution_count": 21,
     "metadata": {},
     "output_type": "execute_result"
    }
   ],
   "source": [
    "2 > 1 or 3 < 2"
   ]
  },
  {
   "cell_type": "code",
   "execution_count": 22,
   "id": "fcccbce0",
   "metadata": {},
   "outputs": [
    {
     "data": {
      "text/plain": [
       "False"
      ]
     },
     "execution_count": 22,
     "metadata": {},
     "output_type": "execute_result"
    }
   ],
   "source": [
    "1 > 2 or 3 < 2"
   ]
  },
  {
   "cell_type": "code",
   "execution_count": 23,
   "id": "eb67541c",
   "metadata": {},
   "outputs": [
    {
     "data": {
      "text/plain": [
       "False"
      ]
     },
     "execution_count": 23,
     "metadata": {},
     "output_type": "execute_result"
    }
   ],
   "source": [
    "not 1 == 1"
   ]
  },
  {
   "cell_type": "code",
   "execution_count": 24,
   "id": "674cb1ec",
   "metadata": {},
   "outputs": [
    {
     "data": {
      "text/plain": [
       "True"
      ]
     },
     "execution_count": 24,
     "metadata": {},
     "output_type": "execute_result"
    }
   ],
   "source": [
    "10 in [10,20,34]"
   ]
  },
  {
   "cell_type": "code",
   "execution_count": 25,
   "id": "99994e9f",
   "metadata": {},
   "outputs": [
    {
     "data": {
      "text/plain": [
       "False"
      ]
     },
     "execution_count": 25,
     "metadata": {},
     "output_type": "execute_result"
    }
   ],
   "source": [
    "5 in [10,20,34]"
   ]
  },
  {
   "cell_type": "code",
   "execution_count": 26,
   "id": "fd2b7d52",
   "metadata": {},
   "outputs": [
    {
     "data": {
      "text/plain": [
       "True"
      ]
     },
     "execution_count": 26,
     "metadata": {},
     "output_type": "execute_result"
    }
   ],
   "source": [
    "5 not in [10,20,34]"
   ]
  },
  {
   "cell_type": "code",
   "execution_count": 38,
   "id": "6619be05",
   "metadata": {},
   "outputs": [],
   "source": [
    "my_superhero = \"Batman\""
   ]
  },
  {
   "cell_type": "code",
   "execution_count": 39,
   "id": "da07018d",
   "metadata": {},
   "outputs": [
    {
     "data": {
      "text/plain": [
       "True"
      ]
     },
     "execution_count": 39,
     "metadata": {},
     "output_type": "execute_result"
    }
   ],
   "source": [
    "my_superhero == \"Batman\""
   ]
  },
  {
   "cell_type": "code",
   "execution_count": 40,
   "id": "bf069ad6",
   "metadata": {},
   "outputs": [
    {
     "data": {
      "text/plain": [
       "False"
      ]
     },
     "execution_count": 40,
     "metadata": {},
     "output_type": "execute_result"
    }
   ],
   "source": [
    "my_superhero == \"Superman\""
   ]
  },
  {
   "cell_type": "code",
   "execution_count": 41,
   "id": "f017da06",
   "metadata": {},
   "outputs": [
    {
     "name": "stdout",
     "output_type": "stream",
     "text": [
      "batman\n",
      "baris aydin\n",
      "Hello python\n"
     ]
    }
   ],
   "source": [
    "if my_superhero == \"Batman\":\n",
    "    #indentation -> Bosluk\n",
    "    print(\"batman\")\n",
    "    print(\"baris aydin\")\n",
    "##########----------####### -> Kosul dısında kalir\n",
    "print(\"Hello python\")"
   ]
  },
  {
   "cell_type": "code",
   "execution_count": 43,
   "id": "3e2b755f",
   "metadata": {},
   "outputs": [],
   "source": [
    "if 3 > 4:\n",
    "    print(\"Hello world\")\n",
    "    print(\"baris\")"
   ]
  },
  {
   "cell_type": "code",
   "execution_count": 52,
   "id": "60caffa9",
   "metadata": {},
   "outputs": [
    {
     "name": "stdout",
     "output_type": "stream",
     "text": [
      "enter superhero:Wonderwoman\n"
     ]
    }
   ],
   "source": [
    "my_superhero = input(\"enter superhero:\")"
   ]
  },
  {
   "cell_type": "code",
   "execution_count": 53,
   "id": "c90726f5",
   "metadata": {},
   "outputs": [
    {
     "name": "stdout",
     "output_type": "stream",
     "text": [
      ":(\n"
     ]
    }
   ],
   "source": [
    "if my_superhero == \"Superman\":\n",
    "    print(\"superman\")\n",
    "elif my_superhero == \"Batman\":\n",
    "    print(\"batman\")\n",
    "elif my_superhero == \"Aquamna\":\n",
    "    print(\"aquaman\")\n",
    "elif my_superhero == \"Ironman\":\n",
    "    print(\"ironman\")\n",
    "else:\n",
    "    print(\":(\")"
   ]
  },
  {
   "cell_type": "code",
   "execution_count": 58,
   "id": "93dbbd34",
   "metadata": {},
   "outputs": [],
   "source": [
    "my_age = 41"
   ]
  },
  {
   "cell_type": "code",
   "execution_count": 59,
   "id": "470f64b4",
   "metadata": {},
   "outputs": [
    {
     "name": "stdout",
     "output_type": "stream",
     "text": [
      "age > 40\n"
     ]
    }
   ],
   "source": [
    "if my_age <= 18:\n",
    "    print(\"age < 18\")\n",
    "elif my_age > 18 and my_age <= 30:\n",
    "    print (\"18 - age - 30\")\n",
    "elif my_age > 30 and my_age <= 40:\n",
    "    print(\"30 - age - 40\")\n",
    "else:\n",
    "    print(\"age > 40\")"
   ]
  },
  {
   "cell_type": "code",
   "execution_count": 63,
   "id": "ec774a6c",
   "metadata": {},
   "outputs": [
    {
     "name": "stdout",
     "output_type": "stream",
     "text": [
      "enter superhero:Batman\n"
     ]
    }
   ],
   "source": [
    "my_superhero = input(\"enter superhero:\")"
   ]
  },
  {
   "cell_type": "code",
   "execution_count": 64,
   "id": "6974270c",
   "metadata": {},
   "outputs": [],
   "source": [
    "my_superhero_list = [\"Spider Man\", \"Iron Man\", \"Thor\", \"Black Widow\"]"
   ]
  },
  {
   "cell_type": "code",
   "execution_count": 65,
   "id": "9a16eda5",
   "metadata": {},
   "outputs": [
    {
     "name": "stdout",
     "output_type": "stream",
     "text": [
      ":(\n"
     ]
    }
   ],
   "source": [
    "if my_superhero in my_superhero_list:\n",
    "    print(\":)\")\n",
    "else:\n",
    "    print(\":(\")"
   ]
  },
  {
   "cell_type": "code",
   "execution_count": null,
   "id": "fe4f1482",
   "metadata": {},
   "outputs": [],
   "source": []
  }
 ],
 "metadata": {
  "kernelspec": {
   "display_name": "Python 3 (ipykernel)",
   "language": "python",
   "name": "python3"
  },
  "language_info": {
   "codemirror_mode": {
    "name": "ipython",
    "version": 3
   },
   "file_extension": ".py",
   "mimetype": "text/x-python",
   "name": "python",
   "nbconvert_exporter": "python",
   "pygments_lexer": "ipython3",
   "version": "3.10.9"
  }
 },
 "nbformat": 4,
 "nbformat_minor": 5
}
